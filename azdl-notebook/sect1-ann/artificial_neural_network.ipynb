{
 "cells": [
  {
   "cell_type": "markdown",
   "metadata": {
    "colab_type": "text",
    "id": "lP6JLo1tGNBg"
   },
   "source": [
    "# Artificial Neural Network"
   ]
  },
  {
   "cell_type": "markdown",
   "metadata": {
    "colab_type": "text",
    "id": "gWZyYmS_UE_L"
   },
   "source": [
    "### Importing the libraries"
   ]
  },
  {
   "cell_type": "code",
   "execution_count": 1,
   "metadata": {
    "colab": {},
    "colab_type": "code",
    "id": "MxkJoQBkUIHC"
   },
   "outputs": [],
   "source": [
    "import numpy as np\n",
    "import pandas as pd\n",
    "import tensorflow as tf"
   ]
  },
  {
   "cell_type": "code",
   "execution_count": 2,
   "metadata": {
    "colab": {
     "base_uri": "https://localhost:8080/",
     "height": 34
    },
    "colab_type": "code",
    "id": "ZaTwK7ojXr2F",
    "outputId": "0b27a96d-d11a-43e8-ab4b-87c1f01896fe"
   },
   "outputs": [
    {
     "data": {
      "text/plain": [
       "'2.0.0'"
      ]
     },
     "execution_count": 2,
     "metadata": {},
     "output_type": "execute_result"
    }
   ],
   "source": [
    "tf.__version__"
   ]
  },
  {
   "cell_type": "markdown",
   "metadata": {
    "colab_type": "text",
    "id": "1E0Q3aoKUCRX"
   },
   "source": [
    "## Part 1 - Data Preprocessing"
   ]
  },
  {
   "cell_type": "markdown",
   "metadata": {
    "colab_type": "text",
    "id": "cKWAkFVGUU0Z"
   },
   "source": [
    "### Importing the dataset"
   ]
  },
  {
   "cell_type": "code",
   "execution_count": 3,
   "metadata": {
    "colab": {},
    "colab_type": "code",
    "id": "MXUkhkMfU4wq"
   },
   "outputs": [],
   "source": [
    "dataset = pd.read_csv('Churn_Modelling.csv')\n",
    "X = dataset.iloc[:, 3:-1].values\n",
    "y = dataset.iloc[:, -1].values"
   ]
  },
  {
   "cell_type": "code",
   "execution_count": 4,
   "metadata": {
    "colab": {
     "base_uri": "https://localhost:8080/",
     "height": 137
    },
    "colab_type": "code",
    "id": "VYP9cQTWbzuI",
    "outputId": "797e7a64-9bac-436a-8c9c-94437e5e7587"
   },
   "outputs": [
    {
     "name": "stdout",
     "output_type": "stream",
     "text": [
      "[[619 'France' 'Female' ... 1 1 101348.88]\n",
      " [608 'Spain' 'Female' ... 0 1 112542.58]\n",
      " [502 'France' 'Female' ... 1 0 113931.57]\n",
      " ...\n",
      " [709 'France' 'Female' ... 0 1 42085.58]\n",
      " [772 'Germany' 'Male' ... 1 0 92888.52]\n",
      " [792 'France' 'Female' ... 1 0 38190.78]]\n"
     ]
    }
   ],
   "source": [
    "print(X)"
   ]
  },
  {
   "cell_type": "code",
   "execution_count": 5,
   "metadata": {
    "colab": {
     "base_uri": "https://localhost:8080/",
     "height": 34
    },
    "colab_type": "code",
    "id": "38vKGE6Nb2RR",
    "outputId": "a815e42a-e0dd-4cb5-ab97-b17ead98fbc3"
   },
   "outputs": [
    {
     "name": "stdout",
     "output_type": "stream",
     "text": [
      "[1 0 1 ... 1 1 0]\n"
     ]
    }
   ],
   "source": [
    "print(y)"
   ]
  },
  {
   "cell_type": "markdown",
   "metadata": {
    "colab_type": "text",
    "id": "N6bQ0UgSU-NJ"
   },
   "source": [
    "### Encoding categorical data"
   ]
  },
  {
   "cell_type": "markdown",
   "metadata": {
    "colab_type": "text",
    "id": "le5MJreAbW52"
   },
   "source": [
    "Label Encoding the \"Gender\" column"
   ]
  },
  {
   "cell_type": "code",
   "execution_count": 6,
   "metadata": {
    "colab": {},
    "colab_type": "code",
    "id": "PxVKWXxLbczC"
   },
   "outputs": [],
   "source": [
    "from sklearn.preprocessing import LabelEncoder\n",
    "le = LabelEncoder()\n",
    "X[:, 2] = le.fit_transform(X[:, 2])"
   ]
  },
  {
   "cell_type": "code",
   "execution_count": 7,
   "metadata": {
    "colab": {
     "base_uri": "https://localhost:8080/",
     "height": 137
    },
    "colab_type": "code",
    "id": "-M1KboxFb6OO",
    "outputId": "e2b8c7e8-0cbc-4cdf-f4eb-7f0853a00b88"
   },
   "outputs": [
    {
     "name": "stdout",
     "output_type": "stream",
     "text": [
      "[[619 'France' 0 ... 1 1 101348.88]\n",
      " [608 'Spain' 0 ... 0 1 112542.58]\n",
      " [502 'France' 0 ... 1 0 113931.57]\n",
      " ...\n",
      " [709 'France' 0 ... 0 1 42085.58]\n",
      " [772 'Germany' 1 ... 1 0 92888.52]\n",
      " [792 'France' 0 ... 1 0 38190.78]]\n"
     ]
    }
   ],
   "source": [
    "print(X)"
   ]
  },
  {
   "cell_type": "markdown",
   "metadata": {
    "colab_type": "text",
    "id": "CUxGZezpbMcb"
   },
   "source": [
    "One Hot Encoding the \"Geography\" column"
   ]
  },
  {
   "cell_type": "code",
   "execution_count": 8,
   "metadata": {
    "colab": {},
    "colab_type": "code",
    "id": "AMXC8-KMVirw"
   },
   "outputs": [],
   "source": [
    "from sklearn.compose import ColumnTransformer\n",
    "from sklearn.preprocessing import OneHotEncoder\n",
    "ct = ColumnTransformer(transformers=[('encoder', OneHotEncoder(), [1])], remainder='passthrough')\n",
    "X = np.array(ct.fit_transform(X))"
   ]
  },
  {
   "cell_type": "code",
   "execution_count": 9,
   "metadata": {
    "colab": {
     "base_uri": "https://localhost:8080/",
     "height": 137
    },
    "colab_type": "code",
    "id": "ZcxwEon-b8nV",
    "outputId": "23a98af4-5e33-4b26-c27b-f06e3c5d2baf"
   },
   "outputs": [
    {
     "name": "stdout",
     "output_type": "stream",
     "text": [
      "[[1.0 0.0 0.0 ... 1 1 101348.88]\n",
      " [0.0 0.0 1.0 ... 0 1 112542.58]\n",
      " [1.0 0.0 0.0 ... 1 0 113931.57]\n",
      " ...\n",
      " [1.0 0.0 0.0 ... 0 1 42085.58]\n",
      " [0.0 1.0 0.0 ... 1 0 92888.52]\n",
      " [1.0 0.0 0.0 ... 1 0 38190.78]]\n"
     ]
    }
   ],
   "source": [
    "print(X)"
   ]
  },
  {
   "cell_type": "markdown",
   "metadata": {
    "colab_type": "text",
    "id": "vHol938cW8zd"
   },
   "source": [
    "### Splitting the dataset into the Training set and Test set"
   ]
  },
  {
   "cell_type": "code",
   "execution_count": 10,
   "metadata": {
    "colab": {},
    "colab_type": "code",
    "id": "Z-TDt0Y_XEfc"
   },
   "outputs": [],
   "source": [
    "from sklearn.model_selection import train_test_split\n",
    "X_train, X_test, y_train, y_test = train_test_split(X, y, test_size = 0.2, random_state = 0)"
   ]
  },
  {
   "cell_type": "markdown",
   "metadata": {
    "colab_type": "text",
    "id": "RE_FcHyfV3TQ"
   },
   "source": [
    "### Feature Scaling"
   ]
  },
  {
   "cell_type": "code",
   "execution_count": 11,
   "metadata": {
    "colab": {},
    "colab_type": "code",
    "id": "ViCrE00rV8Sk"
   },
   "outputs": [],
   "source": [
    "from sklearn.preprocessing import StandardScaler\n",
    "sc = StandardScaler()\n",
    "X_train = sc.fit_transform(X_train)\n",
    "X_test = sc.transform(X_test)"
   ]
  },
  {
   "cell_type": "markdown",
   "metadata": {
    "colab_type": "text",
    "id": "-zfEzkRVXIwF"
   },
   "source": [
    "## Part 2 - Building the ANN"
   ]
  },
  {
   "cell_type": "markdown",
   "metadata": {
    "colab_type": "text",
    "id": "KvdeScabXtlB"
   },
   "source": [
    "### Initializing the ANN"
   ]
  },
  {
   "cell_type": "code",
   "execution_count": 12,
   "metadata": {
    "colab": {},
    "colab_type": "code",
    "id": "3dtrScHxXQox"
   },
   "outputs": [],
   "source": [
    "ann = tf.keras.models.Sequential()"
   ]
  },
  {
   "cell_type": "markdown",
   "metadata": {
    "colab_type": "text",
    "id": "rP6urV6SX7kS"
   },
   "source": [
    "### Adding the input layer and the first hidden layer"
   ]
  },
  {
   "cell_type": "code",
   "execution_count": 13,
   "metadata": {
    "colab": {},
    "colab_type": "code",
    "id": "bppGycBXYCQr"
   },
   "outputs": [],
   "source": [
    "ann.add(tf.keras.layers.Dense(units=6, activation='relu'))"
   ]
  },
  {
   "cell_type": "markdown",
   "metadata": {
    "colab_type": "text",
    "id": "BELWAc_8YJze"
   },
   "source": [
    "### Adding the second hidden layer"
   ]
  },
  {
   "cell_type": "code",
   "execution_count": 14,
   "metadata": {
    "colab": {},
    "colab_type": "code",
    "id": "JneR0u0sYRTd"
   },
   "outputs": [],
   "source": [
    "ann.add(tf.keras.layers.Dense(units=6, activation='relu'))"
   ]
  },
  {
   "cell_type": "markdown",
   "metadata": {
    "colab_type": "text",
    "id": "OyNEe6RXYcU4"
   },
   "source": [
    "### Adding the output layer"
   ]
  },
  {
   "cell_type": "code",
   "execution_count": 15,
   "metadata": {
    "colab": {},
    "colab_type": "code",
    "id": "Cn3x41RBYfvY"
   },
   "outputs": [],
   "source": [
    "ann.add(tf.keras.layers.Dense(units=1, activation='sigmoid'))"
   ]
  },
  {
   "cell_type": "markdown",
   "metadata": {
    "colab_type": "text",
    "id": "JT4u2S1_Y4WG"
   },
   "source": [
    "## Part 3 - Training the ANN"
   ]
  },
  {
   "cell_type": "markdown",
   "metadata": {
    "colab_type": "text",
    "id": "8GWlJChhY_ZI"
   },
   "source": [
    "### Compiling the ANN"
   ]
  },
  {
   "cell_type": "code",
   "execution_count": 16,
   "metadata": {
    "colab": {},
    "colab_type": "code",
    "id": "fG3RrwDXZEaS"
   },
   "outputs": [],
   "source": [
    "ann.compile(optimizer = 'adam', loss = 'binary_crossentropy', metrics = ['accuracy'])"
   ]
  },
  {
   "cell_type": "markdown",
   "metadata": {
    "colab_type": "text",
    "id": "0QR_G5u7ZLSM"
   },
   "source": [
    "### Training the ANN on the Training set"
   ]
  },
  {
   "cell_type": "code",
   "execution_count": 17,
   "metadata": {
    "colab": {
     "base_uri": "https://localhost:8080/",
     "height": 1000
    },
    "colab_type": "code",
    "id": "nHZ-LKv_ZRb3",
    "outputId": "718cc4b0-b5aa-40f0-9b20-d3d31730a531"
   },
   "outputs": [
    {
     "name": "stdout",
     "output_type": "stream",
     "text": [
      "Train on 8000 samples\n",
      "Epoch 1/100\n",
      "8000/8000 [==============================] - 3s 411us/sample - loss: 0.5284 - accuracy: 0.7841\n",
      "Epoch 2/100\n",
      "8000/8000 [==============================] - 2s 215us/sample - loss: 0.4490 - accuracy: 0.7960\n",
      "Epoch 3/100\n",
      "8000/8000 [==============================] - 2s 191us/sample - loss: 0.4389 - accuracy: 0.7960\n",
      "Epoch 4/100\n",
      "8000/8000 [==============================] - 2s 193us/sample - loss: 0.4343 - accuracy: 0.7960\n",
      "Epoch 5/100\n",
      "8000/8000 [==============================] - 1s 167us/sample - loss: 0.4316 - accuracy: 0.7960\n",
      "Epoch 6/100\n",
      "8000/8000 [==============================] - 2s 192us/sample - loss: 0.4295 - accuracy: 0.7960\n",
      "Epoch 7/100\n",
      "8000/8000 [==============================] - 2s 197us/sample - loss: 0.4277 - accuracy: 0.7960\n",
      "Epoch 8/100\n",
      "8000/8000 [==============================] - 2s 261us/sample - loss: 0.4259 - accuracy: 0.8009\n",
      "Epoch 9/100\n",
      "8000/8000 [==============================] - 2s 219us/sample - loss: 0.4242 - accuracy: 0.8141\n",
      "Epoch 10/100\n",
      "8000/8000 [==============================] - 2s 264us/sample - loss: 0.4223 - accuracy: 0.8148\n",
      "Epoch 11/100\n",
      "8000/8000 [==============================] - 2s 264us/sample - loss: 0.4202 - accuracy: 0.8181\n",
      "Epoch 12/100\n",
      "8000/8000 [==============================] - 2s 277us/sample - loss: 0.4183 - accuracy: 0.8210\n",
      "Epoch 13/100\n",
      "8000/8000 [==============================] - 2s 251us/sample - loss: 0.4163 - accuracy: 0.8225\n",
      "Epoch 14/100\n",
      "8000/8000 [==============================] - 2s 227us/sample - loss: 0.4153 - accuracy: 0.8261\n",
      "Epoch 15/100\n",
      "8000/8000 [==============================] - 2s 221us/sample - loss: 0.4135 - accuracy: 0.8280\n",
      "Epoch 16/100\n",
      "8000/8000 [==============================] - 2s 229us/sample - loss: 0.4122 - accuracy: 0.8278\n",
      "Epoch 17/100\n",
      "8000/8000 [==============================] - 2s 199us/sample - loss: 0.4109 - accuracy: 0.8292\n",
      "Epoch 18/100\n",
      "8000/8000 [==============================] - 2s 208us/sample - loss: 0.4094 - accuracy: 0.8313\n",
      "Epoch 19/100\n",
      "8000/8000 [==============================] - 2s 197us/sample - loss: 0.4079 - accuracy: 0.8325\n",
      "Epoch 20/100\n",
      "8000/8000 [==============================] - 1s 181us/sample - loss: 0.4066 - accuracy: 0.8334\n",
      "Epoch 21/100\n",
      "8000/8000 [==============================] - 2s 195us/sample - loss: 0.4054 - accuracy: 0.8330\n",
      "Epoch 22/100\n",
      "8000/8000 [==============================] - 1s 176us/sample - loss: 0.4041 - accuracy: 0.8322\n",
      "Epoch 23/100\n",
      "8000/8000 [==============================] - 1s 177us/sample - loss: 0.4031 - accuracy: 0.8338\n",
      "Epoch 24/100\n",
      "8000/8000 [==============================] - 2s 193us/sample - loss: 0.4020 - accuracy: 0.8350\n",
      "Epoch 25/100\n",
      "8000/8000 [==============================] - 2s 188us/sample - loss: 0.4012 - accuracy: 0.8355\n",
      "Epoch 26/100\n",
      "8000/8000 [==============================] - 2s 191us/sample - loss: 0.3997 - accuracy: 0.8347\n",
      "Epoch 27/100\n",
      "8000/8000 [==============================] - 1s 179us/sample - loss: 0.3981 - accuracy: 0.8364\n",
      "Epoch 28/100\n",
      "8000/8000 [==============================] - 2s 241us/sample - loss: 0.3967 - accuracy: 0.8364\n",
      "Epoch 29/100\n",
      "8000/8000 [==============================] - 2s 265us/sample - loss: 0.3950 - accuracy: 0.8378\n",
      "Epoch 30/100\n",
      "8000/8000 [==============================] - 2s 212us/sample - loss: 0.3933 - accuracy: 0.8385\n",
      "Epoch 31/100\n",
      "8000/8000 [==============================] - 3s 341us/sample - loss: 0.3916 - accuracy: 0.8385\n",
      "Epoch 32/100\n",
      "8000/8000 [==============================] - 2s 206us/sample - loss: 0.3895 - accuracy: 0.8391\n",
      "Epoch 33/100\n",
      "8000/8000 [==============================] - 2s 269us/sample - loss: 0.3878 - accuracy: 0.8394\n",
      "Epoch 34/100\n",
      "8000/8000 [==============================] - 2s 233us/sample - loss: 0.3856 - accuracy: 0.8409\n",
      "Epoch 35/100\n",
      "8000/8000 [==============================] - 2s 215us/sample - loss: 0.3834 - accuracy: 0.8420\n",
      "Epoch 36/100\n",
      "8000/8000 [==============================] - 2s 209us/sample - loss: 0.3811 - accuracy: 0.8415\n",
      "Epoch 37/100\n",
      "8000/8000 [==============================] - 2s 266us/sample - loss: 0.3786 - accuracy: 0.8420\n",
      "Epoch 38/100\n",
      "8000/8000 [==============================] - 2s 279us/sample - loss: 0.3769 - accuracy: 0.8425\n",
      "Epoch 39/100\n",
      "8000/8000 [==============================] - 2s 298us/sample - loss: 0.3749 - accuracy: 0.8435\n",
      "Epoch 40/100\n",
      "8000/8000 [==============================] - 2s 190us/sample - loss: 0.3726 - accuracy: 0.8454\n",
      "Epoch 41/100\n",
      "8000/8000 [==============================] - 2s 229us/sample - loss: 0.3700 - accuracy: 0.8466\n",
      "Epoch 42/100\n",
      "8000/8000 [==============================] - 2s 193us/sample - loss: 0.3668 - accuracy: 0.8487\n",
      "Epoch 43/100\n",
      "8000/8000 [==============================] - 2s 193us/sample - loss: 0.3634 - accuracy: 0.8506\n",
      "Epoch 44/100\n",
      "8000/8000 [==============================] - 2s 195us/sample - loss: 0.3594 - accuracy: 0.8537\n",
      "Epoch 45/100\n",
      "8000/8000 [==============================] - 2s 289us/sample - loss: 0.3561 - accuracy: 0.8554\n",
      "Epoch 46/100\n",
      "8000/8000 [==============================] - 2s 304us/sample - loss: 0.3525 - accuracy: 0.8566\n",
      "Epoch 47/100\n",
      "8000/8000 [==============================] - 2s 222us/sample - loss: 0.3502 - accuracy: 0.8589\n",
      "Epoch 48/100\n",
      "8000/8000 [==============================] - 2s 262us/sample - loss: 0.3482 - accuracy: 0.8590\n",
      "Epoch 49/100\n",
      "8000/8000 [==============================] - 2s 305us/sample - loss: 0.3464 - accuracy: 0.8605\n",
      "Epoch 50/100\n",
      "8000/8000 [==============================] - 2s 217us/sample - loss: 0.3450 - accuracy: 0.8600\n",
      "Epoch 51/100\n",
      "8000/8000 [==============================] - 2s 208us/sample - loss: 0.3438 - accuracy: 0.8608\n",
      "Epoch 52/100\n",
      "8000/8000 [==============================] - 2s 262us/sample - loss: 0.3432 - accuracy: 0.8601\n",
      "Epoch 53/100\n",
      "8000/8000 [==============================] - 2s 235us/sample - loss: 0.3430 - accuracy: 0.8597\n",
      "Epoch 54/100\n",
      "8000/8000 [==============================] - 2s 238us/sample - loss: 0.3422 - accuracy: 0.8609\n",
      "Epoch 55/100\n",
      "8000/8000 [==============================] - 3s 315us/sample - loss: 0.3422 - accuracy: 0.8609\n",
      "Epoch 56/100\n",
      "8000/8000 [==============================] - 2s 237us/sample - loss: 0.3409 - accuracy: 0.8614\n",
      "Epoch 57/100\n",
      "8000/8000 [==============================] - 2s 271us/sample - loss: 0.3414 - accuracy: 0.8608\n",
      "Epoch 58/100\n",
      "8000/8000 [==============================] - 2s 262us/sample - loss: 0.3405 - accuracy: 0.8611\n",
      "Epoch 59/100\n",
      "8000/8000 [==============================] - 2s 237us/sample - loss: 0.3409 - accuracy: 0.8606\n",
      "Epoch 60/100\n",
      "8000/8000 [==============================] - 2s 268us/sample - loss: 0.3405 - accuracy: 0.8618\n",
      "Epoch 61/100\n",
      "8000/8000 [==============================] - 2s 260us/sample - loss: 0.3407 - accuracy: 0.8611\n",
      "Epoch 62/100\n",
      "8000/8000 [==============================] - 2s 218us/sample - loss: 0.3400 - accuracy: 0.8615\n",
      "Epoch 63/100\n",
      "8000/8000 [==============================] - 2s 231us/sample - loss: 0.3400 - accuracy: 0.8600\n",
      "Epoch 64/100\n",
      "8000/8000 [==============================] - 2s 210us/sample - loss: 0.3402 - accuracy: 0.8608\n",
      "Epoch 65/100\n",
      "8000/8000 [==============================] - 2s 223us/sample - loss: 0.3396 - accuracy: 0.8624\n",
      "Epoch 66/100\n",
      "8000/8000 [==============================] - 2s 196us/sample - loss: 0.3395 - accuracy: 0.8621\n",
      "Epoch 67/100\n",
      "8000/8000 [==============================] - 2s 213us/sample - loss: 0.3390 - accuracy: 0.8620\n",
      "Epoch 68/100\n",
      "8000/8000 [==============================] - 3s 326us/sample - loss: 0.3390 - accuracy: 0.8612\n",
      "Epoch 69/100\n",
      "8000/8000 [==============================] - 2s 305us/sample - loss: 0.3387 - accuracy: 0.8610\n",
      "Epoch 70/100\n",
      "8000/8000 [==============================] - 2s 287us/sample - loss: 0.3393 - accuracy: 0.8616\n",
      "Epoch 71/100\n",
      "8000/8000 [==============================] - 2s 262us/sample - loss: 0.3388 - accuracy: 0.8608\n",
      "Epoch 72/100\n",
      "8000/8000 [==============================] - 2s 242us/sample - loss: 0.3388 - accuracy: 0.8616\n",
      "Epoch 73/100\n",
      "8000/8000 [==============================] - 2s 210us/sample - loss: 0.3383 - accuracy: 0.8606\n",
      "Epoch 74/100\n",
      "8000/8000 [==============================] - 2s 276us/sample - loss: 0.3382 - accuracy: 0.8611\n",
      "Epoch 75/100\n",
      "8000/8000 [==============================] - 2s 193us/sample - loss: 0.3381 - accuracy: 0.8624\n",
      "Epoch 76/100\n"
     ]
    },
    {
     "name": "stdout",
     "output_type": "stream",
     "text": [
      "8000/8000 [==============================] - 1s 187us/sample - loss: 0.3383 - accuracy: 0.8612\n",
      "Epoch 77/100\n",
      "8000/8000 [==============================] - 2s 287us/sample - loss: 0.3379 - accuracy: 0.8620\n",
      "Epoch 78/100\n",
      "8000/8000 [==============================] - 2s 251us/sample - loss: 0.3379 - accuracy: 0.8596\n",
      "Epoch 79/100\n",
      "8000/8000 [==============================] - 2s 280us/sample - loss: 0.3379 - accuracy: 0.8620\n",
      "Epoch 80/100\n",
      "8000/8000 [==============================] - 2s 230us/sample - loss: 0.3377 - accuracy: 0.8605\n",
      "Epoch 81/100\n",
      "8000/8000 [==============================] - 2s 240us/sample - loss: 0.3383 - accuracy: 0.8622\n",
      "Epoch 82/100\n",
      "8000/8000 [==============================] - 2s 246us/sample - loss: 0.3375 - accuracy: 0.8625\n",
      "Epoch 83/100\n",
      "8000/8000 [==============================] - 2s 196us/sample - loss: 0.3379 - accuracy: 0.8609\n",
      "Epoch 84/100\n",
      "8000/8000 [==============================] - 2s 212us/sample - loss: 0.3371 - accuracy: 0.8618\n",
      "Epoch 85/100\n",
      "8000/8000 [==============================] - 2s 201us/sample - loss: 0.3370 - accuracy: 0.8618\n",
      "Epoch 86/100\n",
      "8000/8000 [==============================] - 2s 236us/sample - loss: 0.3367 - accuracy: 0.8626\n",
      "Epoch 87/100\n",
      "8000/8000 [==============================] - 2s 221us/sample - loss: 0.3370 - accuracy: 0.8622\n",
      "Epoch 88/100\n",
      "8000/8000 [==============================] - 2s 190us/sample - loss: 0.3367 - accuracy: 0.8608\n",
      "Epoch 89/100\n",
      "8000/8000 [==============================] - 1s 186us/sample - loss: 0.3365 - accuracy: 0.8620\n",
      "Epoch 90/100\n",
      "8000/8000 [==============================] - 1s 163us/sample - loss: 0.3367 - accuracy: 0.8637\n",
      "Epoch 91/100\n",
      "8000/8000 [==============================] - 2s 233us/sample - loss: 0.3366 - accuracy: 0.8624\n",
      "Epoch 92/100\n",
      "8000/8000 [==============================] - 1s 181us/sample - loss: 0.3362 - accuracy: 0.8618\n",
      "Epoch 93/100\n",
      "8000/8000 [==============================] - 3s 345us/sample - loss: 0.3360 - accuracy: 0.8620\n",
      "Epoch 94/100\n",
      "8000/8000 [==============================] - 2s 208us/sample - loss: 0.3367 - accuracy: 0.8631\n",
      "Epoch 95/100\n",
      "8000/8000 [==============================] - 2s 233us/sample - loss: 0.3361 - accuracy: 0.8606\n",
      "Epoch 96/100\n",
      "8000/8000 [==============================] - 2s 240us/sample - loss: 0.3364 - accuracy: 0.8612\n",
      "Epoch 97/100\n",
      "8000/8000 [==============================] - 2s 218us/sample - loss: 0.3353 - accuracy: 0.8622\n",
      "Epoch 98/100\n",
      "8000/8000 [==============================] - 1s 183us/sample - loss: 0.3356 - accuracy: 0.8627\n",
      "Epoch 99/100\n",
      "8000/8000 [==============================] - 2s 190us/sample - loss: 0.3359 - accuracy: 0.8624\n",
      "Epoch 100/100\n",
      "8000/8000 [==============================] - 1s 173us/sample - loss: 0.3358 - accuracy: 0.8625\n"
     ]
    },
    {
     "data": {
      "text/plain": [
       "<tensorflow.python.keras.callbacks.History at 0x7f6444340358>"
      ]
     },
     "execution_count": 17,
     "metadata": {},
     "output_type": "execute_result"
    }
   ],
   "source": [
    "ann.fit(X_train, y_train, batch_size = 32, epochs = 100)"
   ]
  },
  {
   "cell_type": "markdown",
   "metadata": {
    "colab_type": "text",
    "id": "tJj5k2MxZga3"
   },
   "source": [
    "## Part 4 - Making the predictions and evaluating the model"
   ]
  },
  {
   "cell_type": "markdown",
   "metadata": {
    "colab_type": "text",
    "id": "84QFoqGYeXHL"
   },
   "source": [
    "### Predicting the result of a single observation"
   ]
  },
  {
   "cell_type": "markdown",
   "metadata": {
    "colab_type": "text",
    "id": "CGRo3eacgDdC"
   },
   "source": [
    "**Homework**\n",
    "\n",
    "Use our ANN model to predict if the customer with the following informations will leave the bank: \n",
    "\n",
    "Geography: France\n",
    "\n",
    "Credit Score: 600\n",
    "\n",
    "Gender: Male\n",
    "\n",
    "Age: 40 years old\n",
    "\n",
    "Tenure: 3 years\n",
    "\n",
    "Balance: \\$ 60000\n",
    "\n",
    "Number of Products: 2\n",
    "\n",
    "Does this customer have a credit card ? Yes\n",
    "\n",
    "Is this customer an Active Member: Yes\n",
    "\n",
    "Estimated Salary: \\$ 50000\n",
    "\n",
    "So, should we say goodbye to that customer ?"
   ]
  },
  {
   "cell_type": "markdown",
   "metadata": {
    "colab_type": "text",
    "id": "ZhU1LTgPg-kH"
   },
   "source": [
    "**Solution**"
   ]
  },
  {
   "cell_type": "code",
   "execution_count": 21,
   "metadata": {
    "colab": {
     "base_uri": "https://localhost:8080/",
     "height": 34
    },
    "colab_type": "code",
    "id": "2d8IoCCkeWGL",
    "outputId": "957f3970-e197-4c3b-a150-7f69dc567f5d"
   },
   "outputs": [
    {
     "name": "stdout",
     "output_type": "stream",
     "text": [
      "[[False]]\n"
     ]
    }
   ],
   "source": [
    "print(ann.predict(sc.transform([[1, 0, 0, 600, 1, 40, 3, 60000, 2, 1, 1, 50000]])) > 0.5)"
   ]
  },
  {
   "cell_type": "markdown",
   "metadata": {
    "colab_type": "text",
    "id": "wGjx94g2n7OV"
   },
   "source": [
    "Therefore, our ANN model predicts that this customer stays in the bank!\n",
    "\n",
    "**Important note 1:** Notice that the values of the features were all input in a double pair of square brackets. That's because the \"predict\" method always expects a 2D array as the format of its inputs. And putting our values into a double pair of square brackets makes the input exactly a 2D array.\n",
    "\n",
    "**Important note 2:** Notice also that the \"France\" country was not input as a string in the last column but as \"1, 0, 0\" in the first three columns. That's because of course the predict method expects the one-hot-encoded values of the state, and as we see in the first row of the matrix of features X, \"France\" was encoded as \"1, 0, 0\". And be careful to include these values in the first three columns, because the dummy variables are always created in the first columns."
   ]
  },
  {
   "cell_type": "markdown",
   "metadata": {
    "colab_type": "text",
    "id": "u7yx47jPZt11"
   },
   "source": [
    "### Predicting the Test set results"
   ]
  },
  {
   "cell_type": "code",
   "execution_count": 22,
   "metadata": {
    "colab": {
     "base_uri": "https://localhost:8080/",
     "height": 137
    },
    "colab_type": "code",
    "id": "nIyEeQdRZwgs",
    "outputId": "82330ba8-9bdc-4fd1-d3cf-b6d78ee7c2a3"
   },
   "outputs": [
    {
     "name": "stdout",
     "output_type": "stream",
     "text": [
      "[[0 0]\n",
      " [0 1]\n",
      " [0 0]\n",
      " ...\n",
      " [0 0]\n",
      " [0 0]\n",
      " [0 0]]\n"
     ]
    }
   ],
   "source": [
    "y_pred = ann.predict(X_test)\n",
    "y_pred = (y_pred > 0.5)\n",
    "print(np.concatenate((y_pred.reshape(len(y_pred),1), y_test.reshape(len(y_test),1)),1))"
   ]
  },
  {
   "cell_type": "markdown",
   "metadata": {
    "colab_type": "text",
    "id": "o0oyfLWoaEGw"
   },
   "source": [
    "### Making the Confusion Matrix"
   ]
  },
  {
   "cell_type": "code",
   "execution_count": 23,
   "metadata": {
    "colab": {
     "base_uri": "https://localhost:8080/",
     "height": 68
    },
    "colab_type": "code",
    "id": "ci6K_r6LaF6P",
    "outputId": "4d854e9e-22d5-432f-f6e5-a102fe3ae0bd"
   },
   "outputs": [
    {
     "name": "stdout",
     "output_type": "stream",
     "text": [
      "[[1520   75]\n",
      " [ 202  203]]\n"
     ]
    },
    {
     "data": {
      "text/plain": [
       "0.8615"
      ]
     },
     "execution_count": 23,
     "metadata": {},
     "output_type": "execute_result"
    }
   ],
   "source": [
    "from sklearn.metrics import confusion_matrix, accuracy_score\n",
    "cm = confusion_matrix(y_test, y_pred)\n",
    "print(cm)\n",
    "accuracy_score(y_test, y_pred)"
   ]
  },
  {
   "cell_type": "code",
   "execution_count": null,
   "metadata": {},
   "outputs": [],
   "source": []
  }
 ],
 "metadata": {
  "colab": {
   "collapsed_sections": [],
   "name": "artificial_neural_network.ipynb",
   "provenance": [],
   "toc_visible": true
  },
  "kernelspec": {
   "display_name": "Python 3",
   "language": "python",
   "name": "python3"
  },
  "language_info": {
   "codemirror_mode": {
    "name": "ipython",
    "version": 3
   },
   "file_extension": ".py",
   "mimetype": "text/x-python",
   "name": "python",
   "nbconvert_exporter": "python",
   "pygments_lexer": "ipython3",
   "version": "3.7.3"
  }
 },
 "nbformat": 4,
 "nbformat_minor": 1
}
