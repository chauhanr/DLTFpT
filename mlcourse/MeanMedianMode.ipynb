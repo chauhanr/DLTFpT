{
 "cells": [
  {
   "cell_type": "markdown",
   "metadata": {},
   "source": [
    "# Mean, Median, Mode, and introducing NumPy"
   ]
  },
  {
   "cell_type": "markdown",
   "metadata": {},
   "source": [
    "## Mean vs. Median"
   ]
  },
  {
   "cell_type": "markdown",
   "metadata": {},
   "source": [
    "Let's create some fake income data, centered around 27,000 with a normal distribution and standard deviation of 15,000, with 10,000 data points. (We'll discuss those terms more later, if you're not familiar with them.)\n",
    "\n",
    "Then, compute the mean (average) - it should be close to 27,000:"
   ]
  },
  {
   "cell_type": "code",
   "execution_count": 3,
   "metadata": {},
   "outputs": [
    {
     "data": {
      "text/plain": [
       "27081.354031950985"
      ]
     },
     "execution_count": 3,
     "metadata": {},
     "output_type": "execute_result"
    }
   ],
   "source": [
    "import numpy as np\n",
    "\n",
    "incomes = np.random.normal(27000, 15000, 10000)\n",
    "np.mean(incomes)"
   ]
  },
  {
   "cell_type": "markdown",
   "metadata": {},
   "source": [
    "We can segment the income data into 50 buckets, and plot it as a histogram:"
   ]
  },
  {
   "cell_type": "code",
   "execution_count": 4,
   "metadata": {},
   "outputs": [
    {
     "data": {
      "image/png": "[encoded data removed]",
      "text/plain": [
       "<Figure size 432x288 with 1 Axes>"
      ]
     },
     "metadata": {
      "needs_background": "light"
     },
     "output_type": "display_data"
    }
   ],
   "source": [
    "%matplotlib inline\n",
    "import matplotlib.pyplot as plt\n",
    "plt.hist(incomes, 50)\n",
    "plt.show()"
   ]
  },
  {
   "cell_type": "markdown",
   "metadata": {},
   "source": [
    "Now compute the median - since we have a nice, even distribution it too should be close to 27,000:"
   ]
  },
  {
   "cell_type": "code",
   "execution_count": 5,
   "metadata": {},
   "outputs": [
    {
     "data": {
      "text/plain": [
       "27116.03011090927"
      ]
     },
     "execution_count": 5,
     "metadata": {},
     "output_type": "execute_result"
    }
   ],
   "source": [
    "np.median(incomes)"
   ]
  },
  {
   "cell_type": "markdown",
   "metadata": {},
   "source": [
    "Now we'll add Jeff Bezos into the mix. Darn income inequality!"
   ]
  },
  {
   "cell_type": "code",
   "execution_count": 6,
   "metadata": {},
   "outputs": [],
   "source": [
    "incomes = np.append(incomes, [1000000000])"
   ]
  },
  {
   "cell_type": "markdown",
   "metadata": {},
   "source": [
    "The median won't change much, but the mean does:"
   ]
  },
  {
   "cell_type": "code",
   "execution_count": 7,
   "metadata": {},
   "outputs": [
    {
     "data": {
      "text/plain": [
       "27116.323162102242"
      ]
     },
     "execution_count": 7,
     "metadata": {},
     "output_type": "execute_result"
    }
   ],
   "source": [
    "np.median(incomes)"
   ]
  },
  {
   "cell_type": "code",
   "execution_count": 8,
   "metadata": {},
   "outputs": [
    {
     "data": {
      "text/plain": [
       "127068.64716723427"
      ]
     },
     "execution_count": 8,
     "metadata": {},
     "output_type": "execute_result"
    }
   ],
   "source": [
    "np.mean(incomes)"
   ]
  },
  {
   "cell_type": "markdown",
   "metadata": {},
   "source": [
    "## Mode"
   ]
  },
  {
   "cell_type": "markdown",
   "metadata": {},
   "source": [
    "Next, let's generate some fake age data for 500 people:"
   ]
  },
  {
   "cell_type": "code",
   "execution_count": 9,
   "metadata": {},
   "outputs": [
    {
     "data": {
      "text/plain": [
       "array([82, 43, 51, 70, 67, 40, 70, 55, 80, 76, 81, 52, 18, 46, 82, 42, 24,\n",
       "       20, 86, 22, 28, 77, 34, 80, 48, 52, 45, 48, 76, 32, 84, 68, 33, 32,\n",
       "       54, 27, 33, 56, 60, 48, 63, 34, 22, 20, 43, 39, 18, 75, 40, 89, 47,\n",
       "       42, 78, 56, 63, 38, 85, 72, 21, 63, 32, 39, 61, 46, 49, 23, 84, 36,\n",
       "       83, 28, 65, 59, 23, 62, 55, 88, 78, 41, 40, 39, 27, 83, 18, 24, 28,\n",
       "       19, 34, 34, 70, 78, 54, 68, 21, 34, 66, 37, 69, 87, 30, 44, 68, 50,\n",
       "       27, 52, 52, 85, 61, 34, 55, 49, 59, 57, 37, 83, 19, 21, 67, 40, 71,\n",
       "       72, 35, 43, 23, 35, 82, 61, 21, 62, 71, 79, 85, 79, 26, 28, 70, 31,\n",
       "       68, 89, 43, 65, 76, 40, 28, 54, 33, 51, 67, 80, 50, 22, 32, 74, 43,\n",
       "       50, 23, 40, 85, 48, 66, 26, 61, 18, 81, 24, 65, 63, 45, 84, 29, 51,\n",
       "       83, 75, 47, 27, 33, 36, 51, 68, 76, 19, 21, 54, 35, 42, 79, 77, 67,\n",
       "       59, 25, 76, 25, 23, 88, 44, 31, 50, 85, 26, 45, 81, 57, 76, 35, 54,\n",
       "       61, 58, 41, 89, 60, 74, 65, 30, 82, 88, 69, 69, 40, 55, 53, 78, 65,\n",
       "       66, 43, 23, 20, 26, 87, 21, 89, 73, 54, 43, 79, 45, 67, 18, 74, 35,\n",
       "       71, 30, 44, 42, 28, 49, 81, 82, 88, 76, 67, 53, 66, 18, 23, 46, 59,\n",
       "       70, 40, 25, 77, 29, 37, 38, 30, 28, 59, 59, 21, 67, 39, 42, 84, 82,\n",
       "       24, 45, 66, 56, 88, 32, 68, 25, 80, 57, 21, 34, 58, 60, 31, 46, 82,\n",
       "       68, 26, 45, 44, 80, 88, 43, 83, 47, 25, 75, 33, 85, 48, 33, 44, 82,\n",
       "       69, 57, 57, 36, 89, 73, 86, 46, 50, 28, 39, 62, 48, 87, 32, 55, 42,\n",
       "       83, 81, 66, 88, 48, 29, 62, 40, 60, 76, 39, 57, 84, 27, 38, 46, 30,\n",
       "       30, 42, 19, 22, 74, 69, 43, 36, 24, 57, 73, 61, 62, 68, 71, 62, 69,\n",
       "       42, 25, 31, 35, 53, 67, 65, 34, 19, 59, 43, 60, 51, 39, 54, 55, 20,\n",
       "       77, 25, 75, 47, 29, 63, 83, 87, 22, 40, 25, 83, 36, 30, 33, 33, 37,\n",
       "       60, 25, 26, 57, 31, 33, 58, 82, 48, 50, 25, 85, 43, 63, 37, 87, 88,\n",
       "       40, 86, 83, 33, 39, 22, 60, 89, 63, 82, 82, 63, 18, 21, 37, 18, 56,\n",
       "       31, 71, 45, 59, 78, 71, 51, 65, 85, 24, 38, 23, 31, 79, 51, 40, 19,\n",
       "       33, 43, 54, 47, 19, 33, 39, 79, 43, 38, 20, 25, 26, 59, 45, 49, 27,\n",
       "       28, 25, 40, 73, 18, 74, 20, 72, 55, 23, 88, 25, 36, 25, 73, 47, 34,\n",
       "       23, 23, 20, 46, 76, 77, 48, 79, 64, 34, 89, 84, 59, 38, 40, 80, 67,\n",
       "       74, 82, 87, 67, 53, 34, 51])"
      ]
     },
     "execution_count": 9,
     "metadata": {},
     "output_type": "execute_result"
    }
   ],
   "source": [
    "ages = np.random.randint(18, high=90, size=500)\n",
    "ages"
   ]
  },
  {
   "cell_type": "code",
   "execution_count": 11,
   "metadata": {},
   "outputs": [],
   "source": [
    "from scipy import stats\n",
    "m = stats.mode(ages)"
   ]
  },
  {
   "cell_type": "markdown",
   "metadata": {},
   "source": [
    "    m"
   ]
  }
 ],
 "metadata": {
  "kernelspec": {
   "display_name": "Python 3",
   "language": "python",
   "name": "python3"
  },
  "language_info": {
   "codemirror_mode": {
    "name": "ipython",
    "version": 3
   },
   "file_extension": ".py",
   "mimetype": "text/x-python",
   "name": "python",
   "nbconvert_exporter": "python",
   "pygments_lexer": "ipython3",
   "version": "3.7.3"
  }
 },
 "nbformat": 4,
 "nbformat_minor": 1
}
