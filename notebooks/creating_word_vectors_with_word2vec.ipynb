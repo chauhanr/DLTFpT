{
 "cells": [
  {
   "cell_type": "markdown",
   "metadata": {},
   "source": [
    "# Creating Word Vectors with word2vec"
   ]
  },
  {
   "cell_type": "markdown",
   "metadata": {},
   "source": [
    "In this notebook, we create word vectors from a corpus of public-domain books, a selection from [Project Gutenberg](https://www.gutenberg.org/)."
   ]
  },
  {
   "cell_type": "markdown",
   "metadata": {},
   "source": [
    "#### Load dependencies"
   ]
  },
  {
   "cell_type": "code",
   "execution_count": 1,
   "metadata": {},
   "outputs": [],
   "source": [
    "import nltk\n",
    "from nltk import word_tokenize, sent_tokenize\n",
    "import gensim\n",
    "from gensim.models.word2vec import Word2Vec\n",
    "from sklearn.manifold import TSNE\n",
    "import pandas as pd\n",
    "from bokeh.io import output_notebook\n",
    "from bokeh.plotting import show, figure"
   ]
  },
  {
   "cell_type": "code",
   "execution_count": 2,
   "metadata": {},
   "outputs": [
    {
     "name": "stderr",
     "output_type": "stream",
     "text": [
      "[nltk_data] Downloading package punkt to /home/jovyan/nltk_data...\n",
      "[nltk_data]   Unzipping tokenizers/punkt.zip.\n"
     ]
    },
    {
     "data": {
      "text/plain": [
       "True"
      ]
     },
     "execution_count": 2,
     "metadata": {},
     "output_type": "execute_result"
    }
   ],
   "source": [
    "nltk.download('punkt') # English-language sentence tokenizer (not all periods end sentences; not all sentences start with a capital letter)"
   ]
  },
  {
   "cell_type": "markdown",
   "metadata": {},
   "source": [
    "#### Load data"
   ]
  },
  {
   "cell_type": "code",
   "execution_count": 3,
   "metadata": {},
   "outputs": [
    {
     "name": "stderr",
     "output_type": "stream",
     "text": [
      "[nltk_data] Downloading package gutenberg to /home/jovyan/nltk_data...\n",
      "[nltk_data]   Unzipping corpora/gutenberg.zip.\n"
     ]
    },
    {
     "data": {
      "text/plain": [
       "True"
      ]
     },
     "execution_count": 3,
     "metadata": {},
     "output_type": "execute_result"
    }
   ],
   "source": [
    "nltk.download('gutenberg')"
   ]
  },
  {
   "cell_type": "code",
   "execution_count": 4,
   "metadata": {
    "scrolled": true
   },
   "outputs": [],
   "source": [
    "from nltk.corpus import gutenberg"
   ]
  },
  {
   "cell_type": "code",
   "execution_count": 5,
   "metadata": {},
   "outputs": [
    {
     "data": {
      "text/plain": [
       "18"
      ]
     },
     "execution_count": 5,
     "metadata": {},
     "output_type": "execute_result"
    }
   ],
   "source": [
    "len(gutenberg.fileids())"
   ]
  },
  {
   "cell_type": "code",
   "execution_count": 6,
   "metadata": {},
   "outputs": [
    {
     "data": {
      "text/plain": [
       "['austen-emma.txt',\n",
       " 'austen-persuasion.txt',\n",
       " 'austen-sense.txt',\n",
       " 'bible-kjv.txt',\n",
       " 'blake-poems.txt',\n",
       " 'bryant-stories.txt',\n",
       " 'burgess-busterbrown.txt',\n",
       " 'carroll-alice.txt',\n",
       " 'chesterton-ball.txt',\n",
       " 'chesterton-brown.txt',\n",
       " 'chesterton-thursday.txt',\n",
       " 'edgeworth-parents.txt',\n",
       " 'melville-moby_dick.txt',\n",
       " 'milton-paradise.txt',\n",
       " 'shakespeare-caesar.txt',\n",
       " 'shakespeare-hamlet.txt',\n",
       " 'shakespeare-macbeth.txt',\n",
       " 'whitman-leaves.txt']"
      ]
     },
     "execution_count": 6,
     "metadata": {},
     "output_type": "execute_result"
    }
   ],
   "source": [
    "gutenberg.fileids()"
   ]
  },
  {
   "cell_type": "markdown",
   "metadata": {},
   "source": [
    "#### Tokenize text"
   ]
  },
  {
   "cell_type": "code",
   "execution_count": 7,
   "metadata": {},
   "outputs": [],
   "source": [
    "gberg_sent_tokens = sent_tokenize(gutenberg.raw())"
   ]
  },
  {
   "cell_type": "code",
   "execution_count": 8,
   "metadata": {},
   "outputs": [
    {
     "data": {
      "text/plain": [
       "['[Emma by Jane Austen 1816]\\n\\nVOLUME I\\n\\nCHAPTER I\\n\\n\\nEmma Woodhouse, handsome, clever, and rich, with a comfortable home\\nand happy disposition, seemed to unite some of the best blessings\\nof existence; and had lived nearly twenty-one years in the world\\nwith very little to distress or vex her.',\n",
       " \"She was the youngest of the two daughters of a most affectionate,\\nindulgent father; and had, in consequence of her sister's marriage,\\nbeen mistress of his house from a very early period.\",\n",
       " 'Her mother\\nhad died too long ago for her to have more than an indistinct\\nremembrance of her caresses; and her place had been supplied\\nby an excellent woman as governess, who had fallen little short\\nof a mother in affection.',\n",
       " \"Sixteen years had Miss Taylor been in Mr. Woodhouse's family,\\nless as a governess than a friend, very fond of both daughters,\\nbut particularly of Emma.\",\n",
       " 'Between _them_ it was more the intimacy\\nof sisters.',\n",
       " \"Even before Miss Taylor had ceased to hold the nominal\\noffice of governess, the mildness of her temper had hardly allowed\\nher to impose any restraint; and the shadow of authority being\\nnow long passed away, they had been living together as friend and\\nfriend very mutually attached, and Emma doing just what she liked;\\nhighly esteeming Miss Taylor's judgment, but directed chiefly by\\nher own.\"]"
      ]
     },
     "execution_count": 8,
     "metadata": {},
     "output_type": "execute_result"
    }
   ],
   "source": [
    "gberg_sent_tokens[0:6]"
   ]
  },
  {
   "cell_type": "code",
   "execution_count": 9,
   "metadata": {},
   "outputs": [
    {
     "data": {
      "text/plain": [
       "\"She was the youngest of the two daughters of a most affectionate,\\nindulgent father; and had, in consequence of her sister's marriage,\\nbeen mistress of his house from a very early period.\""
      ]
     },
     "execution_count": 9,
     "metadata": {},
     "output_type": "execute_result"
    }
   ],
   "source": [
    "gberg_sent_tokens[1]"
   ]
  },
  {
   "cell_type": "code",
   "execution_count": 10,
   "metadata": {},
   "outputs": [
    {
     "data": {
      "text/plain": [
       "['She',\n",
       " 'was',\n",
       " 'the',\n",
       " 'youngest',\n",
       " 'of',\n",
       " 'the',\n",
       " 'two',\n",
       " 'daughters',\n",
       " 'of',\n",
       " 'a',\n",
       " 'most',\n",
       " 'affectionate',\n",
       " ',',\n",
       " 'indulgent',\n",
       " 'father',\n",
       " ';',\n",
       " 'and',\n",
       " 'had',\n",
       " ',',\n",
       " 'in',\n",
       " 'consequence',\n",
       " 'of',\n",
       " 'her',\n",
       " 'sister',\n",
       " \"'s\",\n",
       " 'marriage',\n",
       " ',',\n",
       " 'been',\n",
       " 'mistress',\n",
       " 'of',\n",
       " 'his',\n",
       " 'house',\n",
       " 'from',\n",
       " 'a',\n",
       " 'very',\n",
       " 'early',\n",
       " 'period',\n",
       " '.']"
      ]
     },
     "execution_count": 10,
     "metadata": {},
     "output_type": "execute_result"
    }
   ],
   "source": [
    "word_tokenize(gberg_sent_tokens[1])"
   ]
  },
  {
   "cell_type": "code",
   "execution_count": 11,
   "metadata": {},
   "outputs": [
    {
     "data": {
      "text/plain": [
       "'father'"
      ]
     },
     "execution_count": 11,
     "metadata": {},
     "output_type": "execute_result"
    }
   ],
   "source": [
    "word_tokenize(gberg_sent_tokens[1])[14]"
   ]
  },
  {
   "cell_type": "code",
   "execution_count": 12,
   "metadata": {
    "scrolled": true
   },
   "outputs": [],
   "source": [
    "# a convenient method that handles newlines, as well as tokenizing sentences and words in one shot\n",
    "gberg_sents = gutenberg.sents()"
   ]
  },
  {
   "cell_type": "code",
   "execution_count": 13,
   "metadata": {},
   "outputs": [
    {
     "data": {
      "text/plain": [
       "[['[', 'Emma', 'by', 'Jane', 'Austen', '1816', ']'],\n",
       " ['VOLUME', 'I'],\n",
       " ['CHAPTER', 'I'],\n",
       " ['Emma',\n",
       "  'Woodhouse',\n",
       "  ',',\n",
       "  'handsome',\n",
       "  ',',\n",
       "  'clever',\n",
       "  ',',\n",
       "  'and',\n",
       "  'rich',\n",
       "  ',',\n",
       "  'with',\n",
       "  'a',\n",
       "  'comfortable',\n",
       "  'home',\n",
       "  'and',\n",
       "  'happy',\n",
       "  'disposition',\n",
       "  ',',\n",
       "  'seemed',\n",
       "  'to',\n",
       "  'unite',\n",
       "  'some',\n",
       "  'of',\n",
       "  'the',\n",
       "  'best',\n",
       "  'blessings',\n",
       "  'of',\n",
       "  'existence',\n",
       "  ';',\n",
       "  'and',\n",
       "  'had',\n",
       "  'lived',\n",
       "  'nearly',\n",
       "  'twenty',\n",
       "  '-',\n",
       "  'one',\n",
       "  'years',\n",
       "  'in',\n",
       "  'the',\n",
       "  'world',\n",
       "  'with',\n",
       "  'very',\n",
       "  'little',\n",
       "  'to',\n",
       "  'distress',\n",
       "  'or',\n",
       "  'vex',\n",
       "  'her',\n",
       "  '.'],\n",
       " ['She',\n",
       "  'was',\n",
       "  'the',\n",
       "  'youngest',\n",
       "  'of',\n",
       "  'the',\n",
       "  'two',\n",
       "  'daughters',\n",
       "  'of',\n",
       "  'a',\n",
       "  'most',\n",
       "  'affectionate',\n",
       "  ',',\n",
       "  'indulgent',\n",
       "  'father',\n",
       "  ';',\n",
       "  'and',\n",
       "  'had',\n",
       "  ',',\n",
       "  'in',\n",
       "  'consequence',\n",
       "  'of',\n",
       "  'her',\n",
       "  'sister',\n",
       "  \"'\",\n",
       "  's',\n",
       "  'marriage',\n",
       "  ',',\n",
       "  'been',\n",
       "  'mistress',\n",
       "  'of',\n",
       "  'his',\n",
       "  'house',\n",
       "  'from',\n",
       "  'a',\n",
       "  'very',\n",
       "  'early',\n",
       "  'period',\n",
       "  '.'],\n",
       " ['Her',\n",
       "  'mother',\n",
       "  'had',\n",
       "  'died',\n",
       "  'too',\n",
       "  'long',\n",
       "  'ago',\n",
       "  'for',\n",
       "  'her',\n",
       "  'to',\n",
       "  'have',\n",
       "  'more',\n",
       "  'than',\n",
       "  'an',\n",
       "  'indistinct',\n",
       "  'remembrance',\n",
       "  'of',\n",
       "  'her',\n",
       "  'caresses',\n",
       "  ';',\n",
       "  'and',\n",
       "  'her',\n",
       "  'place',\n",
       "  'had',\n",
       "  'been',\n",
       "  'supplied',\n",
       "  'by',\n",
       "  'an',\n",
       "  'excellent',\n",
       "  'woman',\n",
       "  'as',\n",
       "  'governess',\n",
       "  ',',\n",
       "  'who',\n",
       "  'had',\n",
       "  'fallen',\n",
       "  'little',\n",
       "  'short',\n",
       "  'of',\n",
       "  'a',\n",
       "  'mother',\n",
       "  'in',\n",
       "  'affection',\n",
       "  '.']]"
      ]
     },
     "execution_count": 13,
     "metadata": {},
     "output_type": "execute_result"
    }
   ],
   "source": [
    "gberg_sents[0:6]"
   ]
  },
  {
   "cell_type": "code",
   "execution_count": 14,
   "metadata": {},
   "outputs": [
    {
     "data": {
      "text/plain": [
       "['She',\n",
       " 'was',\n",
       " 'the',\n",
       " 'youngest',\n",
       " 'of',\n",
       " 'the',\n",
       " 'two',\n",
       " 'daughters',\n",
       " 'of',\n",
       " 'a',\n",
       " 'most',\n",
       " 'affectionate',\n",
       " ',',\n",
       " 'indulgent',\n",
       " 'father',\n",
       " ';',\n",
       " 'and',\n",
       " 'had',\n",
       " ',',\n",
       " 'in',\n",
       " 'consequence',\n",
       " 'of',\n",
       " 'her',\n",
       " 'sister',\n",
       " \"'\",\n",
       " 's',\n",
       " 'marriage',\n",
       " ',',\n",
       " 'been',\n",
       " 'mistress',\n",
       " 'of',\n",
       " 'his',\n",
       " 'house',\n",
       " 'from',\n",
       " 'a',\n",
       " 'very',\n",
       " 'early',\n",
       " 'period',\n",
       " '.']"
      ]
     },
     "execution_count": 14,
     "metadata": {},
     "output_type": "execute_result"
    }
   ],
   "source": [
    "gberg_sents[4]"
   ]
  },
  {
   "cell_type": "code",
   "execution_count": 15,
   "metadata": {},
   "outputs": [
    {
     "data": {
      "text/plain": [
       "'father'"
      ]
     },
     "execution_count": 15,
     "metadata": {},
     "output_type": "execute_result"
    }
   ],
   "source": [
    "gberg_sents[4][14]"
   ]
  },
  {
   "cell_type": "code",
   "execution_count": 16,
   "metadata": {
    "scrolled": true
   },
   "outputs": [
    {
     "data": {
      "text/plain": [
       "['[', 'Emma', 'by', 'Jane', 'Austen', '1816', ']', ...]"
      ]
     },
     "execution_count": 16,
     "metadata": {},
     "output_type": "execute_result"
    }
   ],
   "source": [
    "# another convenient method that we don't immediately need: \n",
    "gutenberg.words() "
   ]
  },
  {
   "cell_type": "code",
   "execution_count": null,
   "metadata": {},
   "outputs": [],
   "source": [
    "# gutenberg.words() is analogous to the following line, which need not be run: \n",
    "# word_tokenize(gutenberg.raw())"
   ]
  },
  {
   "cell_type": "code",
   "execution_count": 17,
   "metadata": {},
   "outputs": [
    {
     "data": {
      "text/plain": [
       "2621613"
      ]
     },
     "execution_count": 17,
     "metadata": {},
     "output_type": "execute_result"
    }
   ],
   "source": [
    "# our Gutenberg corpus is 2.6m words in length: \n",
    "len(gutenberg.words())"
   ]
  },
  {
   "cell_type": "markdown",
   "metadata": {},
   "source": [
    "#### Run word2vec"
   ]
  },
  {
   "cell_type": "code",
   "execution_count": 18,
   "metadata": {},
   "outputs": [],
   "source": [
    "#model = Word2Vec(sentences=gberg_sents, size=64, sg=1, window=10, min_count=5, workers=4)"
   ]
  },
  {
   "cell_type": "code",
   "execution_count": 19,
   "metadata": {},
   "outputs": [],
   "source": [
    "#model.save('raw_gutenberg_model.w2v')"
   ]
  },
  {
   "cell_type": "markdown",
   "metadata": {},
   "source": [
    "#### Explore model"
   ]
  },
  {
   "cell_type": "code",
   "execution_count": 20,
   "metadata": {},
   "outputs": [],
   "source": [
    "# skip re-training the model with the next line:  \n",
    "model = gensim.models.Word2Vec.load('raw_gutenberg_model.w2v')"
   ]
  },
  {
   "cell_type": "code",
   "execution_count": 21,
   "metadata": {},
   "outputs": [
    {
     "data": {
      "text/plain": [
       "array([-4.1466146e-03, -3.5718462e-01, -4.2911971e-01,  3.7844461e-01,\n",
       "       -1.1017207e-01, -1.4578715e-01, -4.6452686e-01,  5.3687042e-01,\n",
       "       -2.2535205e-01,  3.3747920e-01,  1.4483279e-01,  2.3419902e-01,\n",
       "        3.2451406e-01, -3.7555844e-01,  5.8527547e-01,  1.0486481e-01,\n",
       "       -6.8573672e-01, -1.7641590e-04,  2.5709322e-02, -1.4250915e-01,\n",
       "        2.0193768e-01,  6.1191045e-02, -2.3672807e-01, -3.8559446e-01,\n",
       "        1.1439926e-01,  1.3206565e-01, -7.2057921e-01,  2.7011576e-01,\n",
       "       -3.5893741e-01, -1.1442479e-01,  3.5064089e-01, -9.4010234e-02,\n",
       "       -4.1445348e-01,  6.7528862e-01,  1.3502000e-01,  1.4942047e-02,\n",
       "       -5.6294747e-02,  4.4102054e-02, -2.1106522e-01, -9.8071322e-02,\n",
       "        9.8927870e-02, -1.2789845e-01, -9.3406275e-02,  4.5863111e-02,\n",
       "        7.5735897e-02, -2.1813367e-01, -2.9274407e-01, -5.5584860e-01,\n",
       "       -5.2432626e-01,  1.0827631e-01, -1.9963792e-01, -9.3112975e-02,\n",
       "        2.8974520e-02, -3.7829745e-01, -1.5835789e-01, -1.1071358e-01,\n",
       "       -2.7078187e-01, -1.3389133e-04, -1.4126416e-01,  2.6028004e-01,\n",
       "       -2.2894654e-01, -3.4777144e-01,  1.2464952e-01, -2.5427891e-02],\n",
       "      dtype=float32)"
      ]
     },
     "execution_count": 21,
     "metadata": {},
     "output_type": "execute_result"
    }
   ],
   "source": [
    "model.wv['dog']"
   ]
  },
  {
   "cell_type": "code",
   "execution_count": 22,
   "metadata": {},
   "outputs": [
    {
     "data": {
      "text/plain": [
       "64"
      ]
     },
     "execution_count": 22,
     "metadata": {},
     "output_type": "execute_result"
    }
   ],
   "source": [
    "len(model.wv['dog'])  # The 64 dimension space so we have 64 dimentions. "
   ]
  },
  {
   "cell_type": "code",
   "execution_count": 23,
   "metadata": {},
   "outputs": [
    {
     "data": {
      "text/plain": [
       "[('puppy', 0.8245944976806641),\n",
       " ('sweeper', 0.8165087699890137),\n",
       " ('cage', 0.7668992280960083),\n",
       " ('broth', 0.7634357213973999),\n",
       " ('chimney', 0.753870964050293),\n",
       " ('string', 0.7537059187889099),\n",
       " ('butcher', 0.7504701018333435),\n",
       " ('bullet', 0.7493541240692139),\n",
       " ('kick', 0.741381824016571),\n",
       " ('loaf', 0.7398046255111694)]"
      ]
     },
     "execution_count": 23,
     "metadata": {},
     "output_type": "execute_result"
    }
   ],
   "source": [
    "model.wv.most_similar('dog') # distance to dog "
   ]
  },
  {
   "cell_type": "code",
   "execution_count": 24,
   "metadata": {},
   "outputs": [
    {
     "data": {
      "text/plain": [
       "[('Mamma', 0.8459633588790894),\n",
       " ('pretend', 0.8424856662750244),\n",
       " ('hesitate', 0.8378000855445862),\n",
       " ('manage', 0.8295996189117432),\n",
       " ('interfere', 0.8291898965835571),\n",
       " ('suppose', 0.8220747113227844),\n",
       " ('impertinent', 0.8152815103530884),\n",
       " ('contradict', 0.8148210048675537),\n",
       " ('shouldn', 0.8141474723815918),\n",
       " ('really', 0.8135504722595215)]"
      ]
     },
     "execution_count": 24,
     "metadata": {},
     "output_type": "execute_result"
    }
   ],
   "source": [
    "model.wv.most_similar('think')"
   ]
  },
  {
   "cell_type": "code",
   "execution_count": 25,
   "metadata": {},
   "outputs": [
    {
     "data": {
      "text/plain": [
       "[('morning', 0.7659273743629456),\n",
       " ('time', 0.7555131912231445),\n",
       " ('month', 0.7306933999061584),\n",
       " ('week', 0.7261040210723877),\n",
       " ('night', 0.7117187976837158),\n",
       " ('Adar', 0.7099676728248596),\n",
       " ('feasting', 0.705502986907959),\n",
       " ('Saturday', 0.7037047147750854),\n",
       " ('fourteenth', 0.7035631537437439),\n",
       " ('evening', 0.6883141994476318)]"
      ]
     },
     "execution_count": 25,
     "metadata": {},
     "output_type": "execute_result"
    }
   ],
   "source": [
    "model.wv.most_similar('day')"
   ]
  },
  {
   "cell_type": "code",
   "execution_count": 26,
   "metadata": {},
   "outputs": [
    {
     "data": {
      "text/plain": [
       "[('mother', 0.8738216161727905),\n",
       " ('brother', 0.862291157245636),\n",
       " ('sister', 0.8117022514343262),\n",
       " ('wife', 0.7752429246902466),\n",
       " ('Tamar', 0.7580605149269104),\n",
       " ('daughter', 0.7566810846328735),\n",
       " ('Amnon', 0.7541859745979309),\n",
       " ('bondwoman', 0.7321372032165527),\n",
       " ('master', 0.7210524678230286),\n",
       " ('younger', 0.719154953956604)]"
      ]
     },
     "execution_count": 26,
     "metadata": {},
     "output_type": "execute_result"
    }
   ],
   "source": [
    "model.wv.most_similar('father')"
   ]
  },
  {
   "cell_type": "code",
   "execution_count": 27,
   "metadata": {},
   "outputs": [
    {
     "name": "stderr",
     "output_type": "stream",
     "text": [
      "/opt/conda/lib/python3.7/site-packages/gensim/models/keyedvectors.py:877: FutureWarning: arrays to stack must be passed as a \"sequence\" type such as list or tuple. Support for non-sequence iterables such as generators is deprecated as of NumPy 1.16 and will raise an error in the future.\n",
      "  vectors = vstack(self.word_vec(word, use_norm=True) for word in used_words).astype(REAL)\n"
     ]
    },
    {
     "data": {
      "text/plain": [
       "'dog'"
      ]
     },
     "execution_count": 27,
     "metadata": {},
     "output_type": "execute_result"
    }
   ],
   "source": [
    "model.wv.doesnt_match(\"mother father daughter dog\".split())"
   ]
  },
  {
   "cell_type": "code",
   "execution_count": 28,
   "metadata": {},
   "outputs": [
    {
     "data": {
      "text/plain": [
       "0.4699294"
      ]
     },
     "execution_count": 28,
     "metadata": {},
     "output_type": "execute_result"
    }
   ],
   "source": [
    "model.wv.similarity('father', 'dog')"
   ]
  },
  {
   "cell_type": "code",
   "execution_count": 29,
   "metadata": {
    "scrolled": true
   },
   "outputs": [
    {
     "data": {
      "text/plain": [
       "[('sister', 0.8063517808914185),\n",
       " ('wife', 0.7883333563804626),\n",
       " ('mother', 0.7879281044006348),\n",
       " ('daughter', 0.7695640921592712),\n",
       " ('husband', 0.7552887201309204),\n",
       " ('brother', 0.7475597858428955),\n",
       " ('Tamar', 0.7241297960281372),\n",
       " ('Sarah', 0.7213785648345947),\n",
       " ('Sarai', 0.7129601240158081),\n",
       " ('Rachel', 0.6995742321014404)]"
      ]
     },
     "execution_count": 29,
     "metadata": {},
     "output_type": "execute_result"
    }
   ],
   "source": [
    "# close, but not quite; distinctly in female direction: \n",
    "model.wv.most_similar(positive=['father', 'woman'], negative=['man']) "
   ]
  },
  {
   "cell_type": "code",
   "execution_count": 30,
   "metadata": {},
   "outputs": [
    {
     "data": {
      "text/plain": [
       "[('Rachel', 0.7442491054534912),\n",
       " ('daughter', 0.7441835403442383),\n",
       " ('wife', 0.743617594242096),\n",
       " ('Sarah', 0.7401350140571594),\n",
       " ('Sarai', 0.7389209866523743),\n",
       " ('Abram', 0.7351948022842407),\n",
       " ('Bethuel', 0.7261578440666199),\n",
       " ('Tamar', 0.7256032824516296),\n",
       " ('Leah', 0.7206445336341858),\n",
       " ('Hagar', 0.717329204082489)]"
      ]
     },
     "execution_count": 30,
     "metadata": {},
     "output_type": "execute_result"
    }
   ],
   "source": [
    "# more confident about this one: \n",
    "model.wv.most_similar(positive=['son', 'woman'], negative=['man']) "
   ]
  },
  {
   "cell_type": "code",
   "execution_count": 31,
   "metadata": {},
   "outputs": [
    {
     "data": {
      "text/plain": [
       "[('wife', 0.7488378286361694),\n",
       " ('sister', 0.7259776592254639),\n",
       " ('daughter', 0.6787654161453247),\n",
       " ('child', 0.6704478859901428),\n",
       " ('conceived', 0.6633370518684387),\n",
       " ('widow', 0.659957766532898),\n",
       " ('mother', 0.6573160886764526),\n",
       " ('maid', 0.6554161310195923),\n",
       " ('Rachel', 0.6345469951629639),\n",
       " ('nurse', 0.6308585405349731)]"
      ]
     },
     "execution_count": 31,
     "metadata": {},
     "output_type": "execute_result"
    }
   ],
   "source": [
    "model.wv.most_similar(positive=['husband', 'woman'], negative=['man']) "
   ]
  },
  {
   "cell_type": "code",
   "execution_count": 32,
   "metadata": {},
   "outputs": [
    {
     "data": {
      "text/plain": [
       "[('Rachel', 0.7287677526473999),\n",
       " ('Sarah', 0.6979366540908813),\n",
       " ('Abram', 0.6922593116760254),\n",
       " ('Leah', 0.6809811592102051),\n",
       " ('Laban', 0.678038477897644),\n",
       " ('Padanaram', 0.6767112016677856),\n",
       " ('Sarai', 0.6715230941772461),\n",
       " ('Hagar', 0.6702522039413452),\n",
       " ('Bethuel', 0.6674023270606995),\n",
       " ('daughter', 0.6622584462165833),\n",
       " ('Solomon', 0.6600829362869263),\n",
       " ('Joseph', 0.6573799252510071),\n",
       " ('Judah', 0.650351345539093),\n",
       " ('Pharaoh', 0.6434875130653381),\n",
       " ('Rebekah', 0.642324686050415),\n",
       " ('Hamor', 0.6420037746429443),\n",
       " ('household', 0.6405993103981018),\n",
       " ('Ephron', 0.6393378973007202),\n",
       " ('Lot', 0.6368026733398438),\n",
       " ('birthright', 0.636254072189331),\n",
       " ('Ur', 0.6331424117088318),\n",
       " ('Tamar', 0.6325780153274536),\n",
       " ('Babylon', 0.6315199136734009),\n",
       " ('Onan', 0.6306878924369812),\n",
       " ('queen', 0.6305269002914429),\n",
       " ('Shechem', 0.6292922496795654),\n",
       " ('Bilhah', 0.6286901235580444),\n",
       " ('Esau', 0.6285772919654846),\n",
       " ('conceived', 0.6227713227272034),\n",
       " ('kindred', 0.6225327253341675)]"
      ]
     },
     "execution_count": 32,
     "metadata": {},
     "output_type": "execute_result"
    }
   ],
   "source": [
    "model.wv.most_similar(positive=['king', 'woman'], negative=['man'], topn=30) "
   ]
  },
  {
   "cell_type": "code",
   "execution_count": null,
   "metadata": {
    "scrolled": true
   },
   "outputs": [],
   "source": [
    "# impressive for such a small data set, without any cleaning, e.g., to lower case (covered next)"
   ]
  },
  {
   "cell_type": "markdown",
   "metadata": {},
   "source": [
    "#### Reduce word vector dimensionality with t-SNE"
   ]
  },
  {
   "cell_type": "code",
   "execution_count": 33,
   "metadata": {},
   "outputs": [
    {
     "data": {
      "text/plain": [
       "17011"
      ]
     },
     "execution_count": 33,
     "metadata": {},
     "output_type": "execute_result"
    }
   ],
   "source": [
    "len(model.wv.vocab)"
   ]
  },
  {
   "cell_type": "code",
   "execution_count": 34,
   "metadata": {},
   "outputs": [],
   "source": [
    "X = model.wv[model.wv.vocab]"
   ]
  },
  {
   "cell_type": "code",
   "execution_count": 35,
   "metadata": {},
   "outputs": [],
   "source": [
    "tsne = TSNE(n_components=2, n_iter=1000) # 200 is minimum iter; default is 1000"
   ]
  },
  {
   "cell_type": "code",
   "execution_count": 36,
   "metadata": {},
   "outputs": [],
   "source": [
    "#X_2d = tsne.fit_transform(X)"
   ]
  },
  {
   "cell_type": "code",
   "execution_count": 37,
   "metadata": {},
   "outputs": [
    {
     "data": {
      "text/plain": [
       "array([[ 31.446829 , -45.304195 ],\n",
       "       [-37.153385 , -51.418427 ],\n",
       "       [-57.356754 ,   5.9145713],\n",
       "       [-38.755898 , -50.66579  ],\n",
       "       [ 31.36291  , -45.269886 ]], dtype=float32)"
      ]
     },
     "execution_count": 37,
     "metadata": {},
     "output_type": "execute_result"
    }
   ],
   "source": [
    "X_2d[0:5]"
   ]
  },
  {
   "cell_type": "code",
   "execution_count": 38,
   "metadata": {},
   "outputs": [],
   "source": [
    "# create DataFrame for storing results and plotting\n",
    "coords_df = pd.DataFrame(X_2d, columns=['x','y'])\n",
    "coords_df['token'] = model.wv.vocab.keys()"
   ]
  },
  {
   "cell_type": "code",
   "execution_count": 39,
   "metadata": {},
   "outputs": [
    {
     "data": {
      "text/html": [
       "<div>\n",
       "<style scoped>\n",
       "    .dataframe tbody tr th:only-of-type {\n",
       "        vertical-align: middle;\n",
       "    }\n",
       "\n",
       "    .dataframe tbody tr th {\n",
       "        vertical-align: top;\n",
       "    }\n",
       "\n",
       "    .dataframe thead th {\n",
       "        text-align: right;\n",
       "    }\n",
       "</style>\n",
       "<table border=\"1\" class=\"dataframe\">\n",
       "  <thead>\n",
       "    <tr style=\"text-align: right;\">\n",
       "      <th></th>\n",
       "      <th>x</th>\n",
       "      <th>y</th>\n",
       "      <th>token</th>\n",
       "    </tr>\n",
       "  </thead>\n",
       "  <tbody>\n",
       "    <tr>\n",
       "      <th>0</th>\n",
       "      <td>31.446829</td>\n",
       "      <td>-45.304195</td>\n",
       "      <td>[</td>\n",
       "    </tr>\n",
       "    <tr>\n",
       "      <th>1</th>\n",
       "      <td>-37.153385</td>\n",
       "      <td>-51.418427</td>\n",
       "      <td>Emma</td>\n",
       "    </tr>\n",
       "    <tr>\n",
       "      <th>2</th>\n",
       "      <td>-57.356754</td>\n",
       "      <td>5.914571</td>\n",
       "      <td>by</td>\n",
       "    </tr>\n",
       "    <tr>\n",
       "      <th>3</th>\n",
       "      <td>-38.755898</td>\n",
       "      <td>-50.665791</td>\n",
       "      <td>Jane</td>\n",
       "    </tr>\n",
       "    <tr>\n",
       "      <th>4</th>\n",
       "      <td>31.362909</td>\n",
       "      <td>-45.269886</td>\n",
       "      <td>]</td>\n",
       "    </tr>\n",
       "  </tbody>\n",
       "</table>\n",
       "</div>"
      ],
      "text/plain": [
       "           x          y token\n",
       "0  31.446829 -45.304195     [\n",
       "1 -37.153385 -51.418427  Emma\n",
       "2 -57.356754   5.914571    by\n",
       "3 -38.755898 -50.665791  Jane\n",
       "4  31.362909 -45.269886     ]"
      ]
     },
     "execution_count": 39,
     "metadata": {},
     "output_type": "execute_result"
    }
   ],
   "source": [
    "coords_df.head()"
   ]
  },
  {
   "cell_type": "code",
   "execution_count": 40,
   "metadata": {},
   "outputs": [],
   "source": [
    "# coords_df.to_csv('raw_gutenberg_tsne.csv', index=False)"
   ]
  },
  {
   "cell_type": "markdown",
   "metadata": {},
   "source": [
    "#### Visualize 2D representation of word vectors"
   ]
  },
  {
   "cell_type": "code",
   "execution_count": 41,
   "metadata": {},
   "outputs": [],
   "source": [
    "coords_df = pd.read_csv('raw_gutenberg_tsne.csv')"
   ]
  },
  {
   "cell_type": "code",
   "execution_count": 42,
   "metadata": {},
   "outputs": [
    {
     "data": {
      "text/html": [
       "\n",
       "    <div class=\"bk-root\">\n",
       "        <a href=\"https://bokeh.pydata.org\" target=\"_blank\" class=\"bk-logo bk-logo-small bk-logo-notebook\"></a>\n",
       "        <span id=\"1001\">Loading BokehJS ...</span>\n",
       "    </div>"
      ]
     },
     "metadata": {},
     "output_type": "display_data"
    },
    {
     "data": {
      "application/javascript": [
       "\n",
       "(function(root) {\n",
       "  function now() {\n",
       "    return new Date();\n",
       "  }\n",
       "\n",
       "  var force = true;\n",
       "\n",
       "  if (typeof root._bokeh_onload_callbacks === \"undefined\" || force === true) {\n",
       "    root._bokeh_onload_callbacks = [];\n",
       "    root._bokeh_is_loading = undefined;\n",
       "  }\n",
       "\n",
       "  var JS_MIME_TYPE = 'application/javascript';\n",
       "  var HTML_MIME_TYPE = 'text/html';\n",
       "  var EXEC_MIME_TYPE = 'application/vnd.bokehjs_exec.v0+json';\n",
       "  var CLASS_NAME = 'output_bokeh rendered_html';\n",
       "\n",
       "  /**\n",
       "   * Render data to the DOM node\n",
       "   */\n",
       "  function render(props, node) {\n",
       "    var script = document.createElement(\"script\");\n",
       "    node.appendChild(script);\n",
       "  }\n",
       "\n",
       "  /**\n",
       "   * Handle when an output is cleared or removed\n",
       "   */\n",
       "  function handleClearOutput(event, handle) {\n",
       "    var cell = handle.cell;\n",
       "\n",
       "    var id = cell.output_area._bokeh_element_id;\n",
       "    var server_id = cell.output_area._bokeh_server_id;\n",
       "    // Clean up Bokeh references\n",
       "    if (id != null && id in Bokeh.index) {\n",
       "      Bokeh.index[id].model.document.clear();\n",
       "      delete Bokeh.index[id];\n",
       "    }\n",
       "\n",
       "    if (server_id !== undefined) {\n",
       "      // Clean up Bokeh references\n",
       "      var cmd = \"from bokeh.io.state import curstate; print(curstate().uuid_to_server['\" + server_id + \"'].get_sessions()[0].document.roots[0]._id)\";\n",
       "      cell.notebook.kernel.execute(cmd, {\n",
       "        iopub: {\n",
       "          output: function(msg) {\n",
       "            var id = msg.content.text.trim();\n",
       "            if (id in Bokeh.index) {\n",
       "              Bokeh.index[id].model.document.clear();\n",
       "              delete Bokeh.index[id];\n",
       "            }\n",
       "          }\n",
       "        }\n",
       "      });\n",
       "      // Destroy server and session\n",
       "      var cmd = \"import bokeh.io.notebook as ion; ion.destroy_server('\" + server_id + \"')\";\n",
       "      cell.notebook.kernel.execute(cmd);\n",
       "    }\n",
       "  }\n",
       "\n",
       "  /**\n",
       "   * Handle when a new output is added\n",
       "   */\n",
       "  function handleAddOutput(event, handle) {\n",
       "    var output_area = handle.output_area;\n",
       "    var output = handle.output;\n",
       "\n",
       "    // limit handleAddOutput to display_data with EXEC_MIME_TYPE content only\n",
       "    if ((output.output_type != \"display_data\") || (!output.data.hasOwnProperty(EXEC_MIME_TYPE))) {\n",
       "      return\n",
       "    }\n",
       "\n",
       "    var toinsert = output_area.element.find(\".\" + CLASS_NAME.split(' ')[0]);\n",
       "\n",
       "    if (output.metadata[EXEC_MIME_TYPE][\"id\"] !== undefined) {\n",
       "      toinsert[toinsert.length - 1].firstChild.textContent = output.data[JS_MIME_TYPE];\n",
       "      // store reference to embed id on output_area\n",
       "      output_area._bokeh_element_id = output.metadata[EXEC_MIME_TYPE][\"id\"];\n",
       "    }\n",
       "    if (output.metadata[EXEC_MIME_TYPE][\"server_id\"] !== undefined) {\n",
       "      var bk_div = document.createElement(\"div\");\n",
       "      bk_div.innerHTML = output.data[HTML_MIME_TYPE];\n",
       "      var script_attrs = bk_div.children[0].attributes;\n",
       "      for (var i = 0; i < script_attrs.length; i++) {\n",
       "        toinsert[toinsert.length - 1].firstChild.setAttribute(script_attrs[i].name, script_attrs[i].value);\n",
       "      }\n",
       "      // store reference to server id on output_area\n",
       "      output_area._bokeh_server_id = output.metadata[EXEC_MIME_TYPE][\"server_id\"];\n",
       "    }\n",
       "  }\n",
       "\n",
       "  function register_renderer(events, OutputArea) {\n",
       "\n",
       "    function append_mime(data, metadata, element) {\n",
       "      // create a DOM node to render to\n",
       "      var toinsert = this.create_output_subarea(\n",
       "        metadata,\n",
       "        CLASS_NAME,\n",
       "        EXEC_MIME_TYPE\n",
       "      );\n",
       "      this.keyboard_manager.register_events(toinsert);\n",
       "      // Render to node\n",
       "      var props = {data: data, metadata: metadata[EXEC_MIME_TYPE]};\n",
       "      render(props, toinsert[toinsert.length - 1]);\n",
       "      element.append(toinsert);\n",
       "      return toinsert\n",
       "    }\n",
       "\n",
       "    /* Handle when an output is cleared or removed */\n",
       "    events.on('clear_output.CodeCell', handleClearOutput);\n",
       "    events.on('delete.Cell', handleClearOutput);\n",
       "\n",
       "    /* Handle when a new output is added */\n",
       "    events.on('output_added.OutputArea', handleAddOutput);\n",
       "\n",
       "    /**\n",
       "     * Register the mime type and append_mime function with output_area\n",
       "     */\n",
       "    OutputArea.prototype.register_mime_type(EXEC_MIME_TYPE, append_mime, {\n",
       "      /* Is output safe? */\n",
       "      safe: true,\n",
       "      /* Index of renderer in `output_area.display_order` */\n",
       "      index: 0\n",
       "    });\n",
       "  }\n",
       "\n",
       "  // register the mime type if in Jupyter Notebook environment and previously unregistered\n",
       "  if (root.Jupyter !== undefined) {\n",
       "    var events = require('base/js/events');\n",
       "    var OutputArea = require('notebook/js/outputarea').OutputArea;\n",
       "\n",
       "    if (OutputArea.prototype.mime_types().indexOf(EXEC_MIME_TYPE) == -1) {\n",
       "      register_renderer(events, OutputArea);\n",
       "    }\n",
       "  }\n",
       "\n",
       "  \n",
       "  if (typeof (root._bokeh_timeout) === \"undefined\" || force === true) {\n",
       "    root._bokeh_timeout = Date.now() + 5000;\n",
       "    root._bokeh_failed_load = false;\n",
       "  }\n",
       "\n",
       "  var NB_LOAD_WARNING = {'data': {'text/html':\n",
       "     \"<div style='background-color: #fdd'>\\n\"+\n",
       "     \"<p>\\n\"+\n",
       "     \"BokehJS does not appear to have successfully loaded. If loading BokehJS from CDN, this \\n\"+\n",
       "     \"may be due to a slow or bad network connection. Possible fixes:\\n\"+\n",
       "     \"</p>\\n\"+\n",
       "     \"<ul>\\n\"+\n",
       "     \"<li>re-rerun `output_notebook()` to attempt to load from CDN again, or</li>\\n\"+\n",
       "     \"<li>use INLINE resources instead, as so:</li>\\n\"+\n",
       "     \"</ul>\\n\"+\n",
       "     \"<code>\\n\"+\n",
       "     \"from bokeh.resources import INLINE\\n\"+\n",
       "     \"output_notebook(resources=INLINE)\\n\"+\n",
       "     \"</code>\\n\"+\n",
       "     \"</div>\"}};\n",
       "\n",
       "  function display_loaded() {\n",
       "    var el = document.getElementById(\"1001\");\n",
       "    if (el != null) {\n",
       "      el.textContent = \"BokehJS is loading...\";\n",
       "    }\n",
       "    if (root.Bokeh !== undefined) {\n",
       "      if (el != null) {\n",
       "        el.textContent = \"BokehJS \" + root.Bokeh.version + \" successfully loaded.\";\n",
       "      }\n",
       "    } else if (Date.now() < root._bokeh_timeout) {\n",
       "      setTimeout(display_loaded, 100)\n",
       "    }\n",
       "  }\n",
       "\n",
       "\n",
       "  function run_callbacks() {\n",
       "    try {\n",
       "      root._bokeh_onload_callbacks.forEach(function(callback) {\n",
       "        if (callback != null)\n",
       "          callback();\n",
       "      });\n",
       "    } finally {\n",
       "      delete root._bokeh_onload_callbacks\n",
       "    }\n",
       "    console.debug(\"Bokeh: all callbacks have finished\");\n",
       "  }\n",
       "\n",
       "  function load_libs(css_urls, js_urls, callback) {\n",
       "    if (css_urls == null) css_urls = [];\n",
       "    if (js_urls == null) js_urls = [];\n",
       "\n",
       "    root._bokeh_onload_callbacks.push(callback);\n",
       "    if (root._bokeh_is_loading > 0) {\n",
       "      console.debug(\"Bokeh: BokehJS is being loaded, scheduling callback at\", now());\n",
       "      return null;\n",
       "    }\n",
       "    if (js_urls == null || js_urls.length === 0) {\n",
       "      run_callbacks();\n",
       "      return null;\n",
       "    }\n",
       "    console.debug(\"Bokeh: BokehJS not loaded, scheduling load and callback at\", now());\n",
       "    root._bokeh_is_loading = css_urls.length + js_urls.length;\n",
       "\n",
       "    function on_load() {\n",
       "      root._bokeh_is_loading--;\n",
       "      if (root._bokeh_is_loading === 0) {\n",
       "        console.debug(\"Bokeh: all BokehJS libraries/stylesheets loaded\");\n",
       "        run_callbacks()\n",
       "      }\n",
       "    }\n",
       "\n",
       "    function on_error() {\n",
       "      console.error(\"failed to load \" + url);\n",
       "    }\n",
       "\n",
       "    for (var i = 0; i < css_urls.length; i++) {\n",
       "      var url = css_urls[i];\n",
       "      const element = document.createElement(\"link\");\n",
       "      element.onload = on_load;\n",
       "      element.onerror = on_error;\n",
       "      element.rel = \"stylesheet\";\n",
       "      element.type = \"text/css\";\n",
       "      element.href = url;\n",
       "      console.debug(\"Bokeh: injecting link tag for BokehJS stylesheet: \", url);\n",
       "      document.body.appendChild(element);\n",
       "    }\n",
       "\n",
       "    for (var i = 0; i < js_urls.length; i++) {\n",
       "      var url = js_urls[i];\n",
       "      var element = document.createElement('script');\n",
       "      element.onload = on_load;\n",
       "      element.onerror = on_error;\n",
       "      element.async = false;\n",
       "      element.src = url;\n",
       "      console.debug(\"Bokeh: injecting script tag for BokehJS library: \", url);\n",
       "      document.head.appendChild(element);\n",
       "    }\n",
       "  };var element = document.getElementById(\"1001\");\n",
       "  if (element == null) {\n",
       "    console.error(\"Bokeh: ERROR: autoload.js configured with elementid '1001' but no matching script tag was found. \")\n",
       "    return false;\n",
       "  }\n",
       "\n",
       "  function inject_raw_css(css) {\n",
       "    const element = document.createElement(\"style\");\n",
       "    element.appendChild(document.createTextNode(css));\n",
       "    document.body.appendChild(element);\n",
       "  }\n",
       "\n",
       "  var js_urls = [\"https://cdn.pydata.org/bokeh/release/bokeh-1.3.4.min.js\", \"https://cdn.pydata.org/bokeh/release/bokeh-widgets-1.3.4.min.js\", \"https://cdn.pydata.org/bokeh/release/bokeh-tables-1.3.4.min.js\", \"https://cdn.pydata.org/bokeh/release/bokeh-gl-1.3.4.min.js\"];\n",
       "  var css_urls = [];\n",
       "\n",
       "  var inline_js = [\n",
       "    function(Bokeh) {\n",
       "      Bokeh.set_log_level(\"info\");\n",
       "    },\n",
       "    \n",
       "    function(Bokeh) {\n",
       "      \n",
       "    },\n",
       "    function(Bokeh) {} // ensure no trailing comma for IE\n",
       "  ];\n",
       "\n",
       "  function run_inline_js() {\n",
       "    \n",
       "    if ((root.Bokeh !== undefined) || (force === true)) {\n",
       "      for (var i = 0; i < inline_js.length; i++) {\n",
       "        inline_js[i].call(root, root.Bokeh);\n",
       "      }if (force === true) {\n",
       "        display_loaded();\n",
       "      }} else if (Date.now() < root._bokeh_timeout) {\n",
       "      setTimeout(run_inline_js, 100);\n",
       "    } else if (!root._bokeh_failed_load) {\n",
       "      console.log(\"Bokeh: BokehJS failed to load within specified timeout.\");\n",
       "      root._bokeh_failed_load = true;\n",
       "    } else if (force !== true) {\n",
       "      var cell = $(document.getElementById(\"1001\")).parents('.cell').data().cell;\n",
       "      cell.output_area.append_execute_result(NB_LOAD_WARNING)\n",
       "    }\n",
       "\n",
       "  }\n",
       "\n",
       "  if (root._bokeh_is_loading === 0) {\n",
       "    console.debug(\"Bokeh: BokehJS loaded, going straight to plotting\");\n",
       "    run_inline_js();\n",
       "  } else {\n",
       "    load_libs(css_urls, js_urls, function() {\n",
       "      console.debug(\"Bokeh: BokehJS plotting callback run at\", now());\n",
       "      run_inline_js();\n",
       "    });\n",
       "  }\n",
       "}(window));"
      ],
      "application/vnd.bokehjs_load.v0+json": "\n(function(root) {\n  function now() {\n    return new Date();\n  }\n\n  var force = true;\n\n  if (typeof root._bokeh_onload_callbacks === \"undefined\" || force === true) {\n    root._bokeh_onload_callbacks = [];\n    root._bokeh_is_loading = undefined;\n  }\n\n  \n\n  \n  if (typeof (root._bokeh_timeout) === \"undefined\" || force === true) {\n    root._bokeh_timeout = Date.now() + 5000;\n    root._bokeh_failed_load = false;\n  }\n\n  var NB_LOAD_WARNING = {'data': {'text/html':\n     \"<div style='background-color: #fdd'>\\n\"+\n     \"<p>\\n\"+\n     \"BokehJS does not appear to have successfully loaded. If loading BokehJS from CDN, this \\n\"+\n     \"may be due to a slow or bad network connection. Possible fixes:\\n\"+\n     \"</p>\\n\"+\n     \"<ul>\\n\"+\n     \"<li>re-rerun `output_notebook()` to attempt to load from CDN again, or</li>\\n\"+\n     \"<li>use INLINE resources instead, as so:</li>\\n\"+\n     \"</ul>\\n\"+\n     \"<code>\\n\"+\n     \"from bokeh.resources import INLINE\\n\"+\n     \"output_notebook(resources=INLINE)\\n\"+\n     \"</code>\\n\"+\n     \"</div>\"}};\n\n  function display_loaded() {\n    var el = document.getElementById(\"1001\");\n    if (el != null) {\n      el.textContent = \"BokehJS is loading...\";\n    }\n    if (root.Bokeh !== undefined) {\n      if (el != null) {\n        el.textContent = \"BokehJS \" + root.Bokeh.version + \" successfully loaded.\";\n      }\n    } else if (Date.now() < root._bokeh_timeout) {\n      setTimeout(display_loaded, 100)\n    }\n  }\n\n\n  function run_callbacks() {\n    try {\n      root._bokeh_onload_callbacks.forEach(function(callback) {\n        if (callback != null)\n          callback();\n      });\n    } finally {\n      delete root._bokeh_onload_callbacks\n    }\n    console.debug(\"Bokeh: all callbacks have finished\");\n  }\n\n  function load_libs(css_urls, js_urls, callback) {\n    if (css_urls == null) css_urls = [];\n    if (js_urls == null) js_urls = [];\n\n    root._bokeh_onload_callbacks.push(callback);\n    if (root._bokeh_is_loading > 0) {\n      console.debug(\"Bokeh: BokehJS is being loaded, scheduling callback at\", now());\n      return null;\n    }\n    if (js_urls == null || js_urls.length === 0) {\n      run_callbacks();\n      return null;\n    }\n    console.debug(\"Bokeh: BokehJS not loaded, scheduling load and callback at\", now());\n    root._bokeh_is_loading = css_urls.length + js_urls.length;\n\n    function on_load() {\n      root._bokeh_is_loading--;\n      if (root._bokeh_is_loading === 0) {\n        console.debug(\"Bokeh: all BokehJS libraries/stylesheets loaded\");\n        run_callbacks()\n      }\n    }\n\n    function on_error() {\n      console.error(\"failed to load \" + url);\n    }\n\n    for (var i = 0; i < css_urls.length; i++) {\n      var url = css_urls[i];\n      const element = document.createElement(\"link\");\n      element.onload = on_load;\n      element.onerror = on_error;\n      element.rel = \"stylesheet\";\n      element.type = \"text/css\";\n      element.href = url;\n      console.debug(\"Bokeh: injecting link tag for BokehJS stylesheet: \", url);\n      document.body.appendChild(element);\n    }\n\n    for (var i = 0; i < js_urls.length; i++) {\n      var url = js_urls[i];\n      var element = document.createElement('script');\n      element.onload = on_load;\n      element.onerror = on_error;\n      element.async = false;\n      element.src = url;\n      console.debug(\"Bokeh: injecting script tag for BokehJS library: \", url);\n      document.head.appendChild(element);\n    }\n  };var element = document.getElementById(\"1001\");\n  if (element == null) {\n    console.error(\"Bokeh: ERROR: autoload.js configured with elementid '1001' but no matching script tag was found. \")\n    return false;\n  }\n\n  function inject_raw_css(css) {\n    const element = document.createElement(\"style\");\n    element.appendChild(document.createTextNode(css));\n    document.body.appendChild(element);\n  }\n\n  var js_urls = [\"https://cdn.pydata.org/bokeh/release/bokeh-1.3.4.min.js\", \"https://cdn.pydata.org/bokeh/release/bokeh-widgets-1.3.4.min.js\", \"https://cdn.pydata.org/bokeh/release/bokeh-tables-1.3.4.min.js\", \"https://cdn.pydata.org/bokeh/release/bokeh-gl-1.3.4.min.js\"];\n  var css_urls = [];\n\n  var inline_js = [\n    function(Bokeh) {\n      Bokeh.set_log_level(\"info\");\n    },\n    \n    function(Bokeh) {\n      \n    },\n    function(Bokeh) {} // ensure no trailing comma for IE\n  ];\n\n  function run_inline_js() {\n    \n    if ((root.Bokeh !== undefined) || (force === true)) {\n      for (var i = 0; i < inline_js.length; i++) {\n        inline_js[i].call(root, root.Bokeh);\n      }if (force === true) {\n        display_loaded();\n      }} else if (Date.now() < root._bokeh_timeout) {\n      setTimeout(run_inline_js, 100);\n    } else if (!root._bokeh_failed_load) {\n      console.log(\"Bokeh: BokehJS failed to load within specified timeout.\");\n      root._bokeh_failed_load = true;\n    } else if (force !== true) {\n      var cell = $(document.getElementById(\"1001\")).parents('.cell').data().cell;\n      cell.output_area.append_execute_result(NB_LOAD_WARNING)\n    }\n\n  }\n\n  if (root._bokeh_is_loading === 0) {\n    console.debug(\"Bokeh: BokehJS loaded, going straight to plotting\");\n    run_inline_js();\n  } else {\n    load_libs(css_urls, js_urls, function() {\n      console.debug(\"Bokeh: BokehJS plotting callback run at\", now());\n      run_inline_js();\n    });\n  }\n}(window));"
     },
     "metadata": {},
     "output_type": "display_data"
    }
   ],
   "source": [
    "output_notebook() # output bokeh plots inline in notebook"
   ]
  },
  {
   "cell_type": "code",
   "execution_count": 43,
   "metadata": {},
   "outputs": [],
   "source": [
    "subset_df = coords_df.sample(n=5000)"
   ]
  },
  {
   "cell_type": "code",
   "execution_count": 44,
   "metadata": {},
   "outputs": [],
   "source": [
    "p = figure(plot_width=800, plot_height=800)\n",
    "_ = p.text(x=subset_df.x, y=subset_df.y, text=subset_df.token)"
   ]
  },
  {
   "cell_type": "code",
   "execution_count": 45,
   "metadata": {},
   "outputs": [
    {
     "data": {
      "text/html": [
       "\n",
       "\n",
       "\n",
       "\n",
       "\n",
       "\n",
       "  <div class=\"bk-root\" id=\"df1371c2-2dd3-4902-92c6-bcc0c9705aaf\" data-root-id=\"1002\"></div>\n"
      ]
     },
     "metadata": {},
     "output_type": "display_data"
    },
    {
     "data": {
      "application/javascript": [
       "(function(root) {\n",
       "  function embed_document(root) {\n",
       "    \n",
       "  var docs_json = {\"f1a83c7d-e63a-41fe-9bad-1ddaf1d83661\":{\"roots\":{\"references\":[{\"attributes\":{\"below\":[{\"id\":\"1011\",\"type\":\"LinearAxis\"}],\"center\":[{\"id\":\"1015\",\"type\":\"Grid\"},{\"id\":\"1020\",\"type\":\"Grid\"}],\"left\":[{\"id\":\"1016\",\"type\":\"LinearAxis\"}],\"plot_height\":800,\"plot_width\":800,\"renderers\":[{\"id\":\"1037\",\"type\":\"GlyphRenderer\"}],\"title\":{\"id\":\"1039\",\"type\":\"Title\"},\"toolbar\":{\"id\":\"1027\",\"type\":\"Toolbar\"},\"x_range\":{\"id\":\"1003\",\"type\":\"DataRange1d\"},\"x_scale\":{\"id\":\"1007\",\"type\":\"LinearScale\"},\"y_range\":{\"id\":\"1005\",\"type\":\"DataRange1d\"},\"y_scale\":{\"id\":\"1009\",\"type\":\"LinearScale\"}},\"id\":\"1002\",\"subtype\":\"Figure\",\"type\":\"Plot\"},{\"attributes\":{\"dimension\":1,\"ticker\":{\"id\":\"1017\",\"type\":\"BasicTicker\"}},\"id\":\"1020\",\"type\":\"Grid\"},{\"attributes\":{},\"id\":\"1017\",\"type\":\"BasicTicker\"},{\"attributes\":{\"formatter\":{\"id\":\"1042\",\"type\":\"BasicTickFormatter\"},\"ticker\":{\"id\":\"1017\",\"type\":\"BasicTicker\"}},\"id\":\"1016\",\"type\":\"LinearAxis\"},{\"attributes\":{\"ticker\":{\"id\":\"1012\",\"type\":\"BasicTicker\"}},\"id\":\"1015\",\"type\":\"Grid\"},{\"attributes\":{\"text_color\":{\"value\":\"black\"},\"x\":{\"field\":\"x\"},\"y\":{\"field\":\"y\"}},\"id\":\"1035\",\"type\":\"Text\"},{\"attributes\":{},\"id\":\"1012\",\"type\":\"BasicTicker\"},{\"attributes\":{\"formatter\":{\"id\":\"1044\",\"type\":\"BasicTickFormatter\"},\"ticker\":{\"id\":\"1012\",\"type\":\"BasicTicker\"}},\"id\":\"1011\",\"type\":\"LinearAxis\"},{\"attributes\":{\"data_source\":{\"id\":\"1034\",\"type\":\"ColumnDataSource\"},\"glyph\":{\"id\":\"1035\",\"type\":\"Text\"},\"hover_glyph\":null,\"muted_glyph\":null,\"nonselection_glyph\":{\"id\":\"1036\",\"type\":\"Text\"},\"selection_glyph\":null,\"view\":{\"id\":\"1038\",\"type\":\"CDSView\"}},\"id\":\"1037\",\"type\":\"GlyphRenderer\"},{\"attributes\":{},\"id\":\"1009\",\"type\":\"LinearScale\"},{\"attributes\":{},\"id\":\"1007\",\"type\":\"LinearScale\"},{\"attributes\":{\"active_drag\":\"auto\",\"active_inspect\":\"auto\",\"active_multi\":null,\"active_scroll\":\"auto\",\"active_tap\":\"auto\",\"tools\":[{\"id\":\"1021\",\"type\":\"PanTool\"},{\"id\":\"1022\",\"type\":\"WheelZoomTool\"},{\"id\":\"1023\",\"type\":\"BoxZoomTool\"},{\"id\":\"1024\",\"type\":\"SaveTool\"},{\"id\":\"1025\",\"type\":\"ResetTool\"},{\"id\":\"1026\",\"type\":\"HelpTool\"}]},\"id\":\"1027\",\"type\":\"Toolbar\"},{\"attributes\":{\"callback\":null},\"id\":\"1005\",\"type\":\"DataRange1d\"},{\"attributes\":{},\"id\":\"1026\",\"type\":\"HelpTool\"},{\"attributes\":{\"callback\":null},\"id\":\"1003\",\"type\":\"DataRange1d\"},{\"attributes\":{\"source\":{\"id\":\"1034\",\"type\":\"ColumnDataSource\"}},\"id\":\"1038\",\"type\":\"CDSView\"},{\"attributes\":{},\"id\":\"1025\",\"type\":\"ResetTool\"},{\"attributes\":{\"text\":\"\"},\"id\":\"1039\",\"type\":\"Title\"},{\"attributes\":{},\"id\":\"1024\",\"type\":\"SaveTool\"},{\"attributes\":{\"overlay\":{\"id\":\"1047\",\"type\":\"BoxAnnotation\"}},\"id\":\"1023\",\"type\":\"BoxZoomTool\"},{\"attributes\":{},\"id\":\"1022\",\"type\":\"WheelZoomTool\"},{\"attributes\":{},\"id\":\"1042\",\"type\":\"BasicTickFormatter\"},{\"attributes\":{},\"id\":\"1021\",\"type\":\"PanTool\"},{\"attributes\":{\"bottom_units\":\"screen\",\"fill_alpha\":{\"value\":0.5},\"fill_color\":{\"value\":\"lightgrey\"},\"left_units\":\"screen\",\"level\":\"overlay\",\"line_alpha\":{\"value\":1.0},\"line_color\":{\"value\":\"black\"},\"line_dash\":[4,4],\"line_width\":{\"value\":2},\"render_mode\":\"css\",\"right_units\":\"screen\",\"top_units\":\"screen\"},\"id\":\"1047\",\"type\":\"BoxAnnotation\"},{\"attributes\":{\"text_alpha\":{\"value\":0.1},\"text_color\":{\"value\":\"black\"},\"x\":{\"field\":\"x\"},\"y\":{\"field\":\"y\"}},\"id\":\"1036\",\"type\":\"Text\"},{\"attributes\":{},\"id\":\"1046\",\"type\":\"Selection\"},{\"attributes\":{},\"id\":\"1045\",\"type\":\"UnionRenderers\"},{\"attributes\":{\"callback\":null,\"data\":{\"text\":[\"casts\",\"crests\",\"Horse\",\"moist\",\"razor\",\"spake\",\"map\",\"materials\",\"decisively\",\"Ziph\",\"gloom\",\"barren\",\"grandeur\",\"harness\",\"hamlet\",\"Soldiers\",\"Nadab\",\"solicitous\",\"obscurity\",\"Even\",\"tribulation\",\"concentration\",\"scrambling\",\"practice\",\"whirr\",\"solicitude\",\"highway\",\"thankes\",\"bewitching\",\"bereaved\",\"scraping\",\"saws\",\"impetuous\",\"Masters\",\"smells\",\"poem\",\"Ezza\",\"hadst\",\"slow\",\"girt\",\"justified\",\"meanes\",\"Issachar\",\"seed\",\"prettily\",\"angelick\",\"peerless\",\"tottering\",\"Ephrath\",\"fares\",\"temples\",\"monotonous\",\"gaol\",\"l\",\"aside\",\"likewise\",\"robe\",\"marriages\",\"hay\",\"Blast\",\"marvels\",\"worketh\",\"HER\",\"are\",\"Exeunt\",\"mortall\",\"courts\",\"served\",\"associates\",\"expecting\",\"physiology\",\"caress\",\"heed\",\"salutes\",\"joint\",\"coals\",\"advantages\",\"friendliness\",\"slide\",\"flatteries\",\"borrow\",\"unimportant\",\"Miriam\",\"Jephthah\",\"events\",\"door\",\"Dashwoods\",\"bearded\",\"wounds\",\"passover\",\"castle\",\"rum\",\"consolation\",\"miracle\",\"envying\",\"unrighteous\",\"chains\",\"crimson\",\"boyish\",\"OCTAVO\",\"calleth\",\"corpusants\",\"whomsoever\",\"ruins\",\"cinnamon\",\"faine\",\"flying\",\"omnibus\",\"nothing\",\"pinnacles\",\"drained\",\"fulfilled\",\"miss\",\"floor\",\"wound\",\"divorcement\",\"pallor\",\"disgrace\",\"landlord\",\"seeke\",\"impressed\",\"stacks\",\"enormous\",\"ferocity\",\"disdain\",\"mountain\",\"Torre\",\"longed\",\"feet\",\"calmly\",\"vicissitudes\",\"triumphantly\",\"bake\",\"grown\",\"gratification\",\"pottage\",\"softest\",\"commanded\",\"watchful\",\"114\",\"Consider\",\"hairy\",\"wholesome\",\"immortal\",\"Cin\",\"shots\",\"quadruped\",\"backbone\",\"balanced\",\"straw\",\"doubtless\",\"sack\",\"prophetic\",\"eluded\",\"sect\",\"thousands\",\"attraction\",\"chariots\",\"subdue\",\"gowns\",\"unfit\",\"Panado\",\"adhere\",\"footman\",\"labyrinth\",\"scroll\",\"Lust\",\"built\",\"mourned\",\"sing\",\"desk\",\"ambiguous\",\"Aram\",\"William\",\"unkindness\",\"garrisons\",\"withstand\",\"Rid\",\"trio\",\"herein\",\"regularity\",\"roaring\",\"shineth\",\"condescending\",\"Fetch\",\"chastisement\",\"Fleans\",\"white\",\"conversed\",\"tumults\",\"rebellious\",\"bleak\",\"representative\",\"envelop\",\"barbarians\",\"selfish\",\"solely\",\"monstrous\",\"doom\",\"Allons\",\"shipping\",\"sideways\",\"victory\",\"enslaved\",\"proclaimed\",\"moss\",\"fury\",\"abilities\",\"Anon\",\"knops\",\"canst\",\"Or\",\"Arphaxad\",\"pluckt\",\"delirium\",\"buying\",\"stalked\",\"publish\",\"corners\",\"Eight\",\"imports\",\"freight\",\"malignant\",\"eludes\",\"marks\",\"seiz\",\"lace\",\"Fifty\",\"attributing\",\"cutter\",\"cubit\",\"proofe\",\"ginger\",\"Francisco\",\"thinks\",\"dame\",\"comb\",\"wishes\",\"service\",\"eligible\",\"followed\",\"pilot\",\"remembrance\",\"Judge\",\"enterprize\",\"received\",\"Ittai\",\"exalteth\",\"concerned\",\"casually\",\"Judges\",\"Debir\",\"Else\",\"Mr\",\"reminiscences\",\"declining\",\"matron\",\"detain\",\"believe\",\"wilful\",\"sixpence\",\"friends\",\"farmhouse\",\"Edrei\",\"carnage\",\"contrite\",\"moon\",\"mallet\",\"WILLIAM\",\"scent\",\"gradual\",\"corrupt\",\"contrast\",\"joking\",\"letters\",\"partners\",\"intention\",\"admitted\",\"Porter\",\"poverty\",\"behave\",\"clamour\",\"WITH\",\"is\",\"advising\",\"Brought\",\"revolver\",\"grandson\",\"window\",\"Family\",\"expects\",\"Gothic\",\"Frode\",\"foreskin\",\"holiest\",\"ascend\",\"Millions\",\"spiritually\",\"homage\",\"amusements\",\"mighty\",\"characters\",\"Harley\",\"blesse\",\"narrow\",\"medium\",\"giues\",\"Venice\",\"Octauius\",\"Hadarezer\",\"daughters\",\"foretell\",\"invade\",\"thine\",\"contrasted\",\"poet\",\"lamented\",\"measures\",\"beautifully\",\"Zeruiah\",\"signifies\",\"dungeon\",\"transfigured\",\"criminal\",\"Patrick\",\"tiptoe\",\"intend\",\"significant\",\"sickly\",\"discretion\",\"101\",\"Hur\",\"scrupulous\",\"purport\",\"whaler\",\"bibles\",\"tides\",\"tradition\",\"infused\",\"Hayter\",\"submitting\",\"Riblah\",\"restless\",\"twigs\",\"deplore\",\"offending\",\"port\",\"liver\",\"rustling\",\"Blacky\",\"disappeared\",\"why\",\"fro\",\"distrusted\",\"sun\",\"posts\",\"endeavor\",\"wine\",\"responsive\",\"bonds\",\"Dagger\",\"scarf\",\"Makkedah\",\"Mixed\",\"Sat\",\"prayer\",\"strange\",\"ringleader\",\"earth\",\"amisse\",\"Impossible\",\"perpetually\",\"96\",\"features\",\"benediction\",\").--\",\"glisten\",\"bandaged\",\"porch\",\"paines\",\"shovels\",\"strifes\",\"P\",\"spoke\",\"South\",\"Answer\",\"Hosea\",\"Enan\",\"peg\",\"eat\",\"eh\",\"anarchist\",\"Pompeyes\",\"trespasses\",\"terrors\",\"engraved\",\"canopy\",\"suspiciously\",\"arithmetic\",\"blows\",\"steadily\",\"affable\",\"flatter\",\"Muscari\",\"bosom\",\"retribution\",\"droll\",\"dollars\",\"restitution\",\"appearance\",\"talke\",\"thick\",\"uttering\",\"cataract\",\"explained\",\"preparation\",\"sayes\",\"twere\",\"terrible\",\"Cassi\",\"sicke\",\"unluckily\",\"paralysis\",\"`\",\"Lucillius\",\"Russian\",\"forgetting\",\"Aristarchus\",\"sedition\",\"Pleas\",\"firmament\",\"snake\",\"TWO\",\"architect\",\"Cawdor\",\"Weymouth\",\"peaceable\",\"backsliding\",\"wantonness\",\"abrupt\",\"Pale\",\"shields\",\"thanked\",\"Greece\",\"loued\",\"oversight\",\"dead\",\"prospered\",\"beside\",\"purchase\",\"collect\",\"obtained\",\"goin\",\"impalpable\",\"entertainment\",\"dispositions\",\"impossibility\",\"resemblance\",\"ashes\",\"China\",\"flutter\",\"rounded\",\"stoned\",\"hours\",\"wordless\",\"lull\",\"conduct\",\"shunned\",\"visions\",\"reflect\",\"expect\",\"lye\",\"week\",\"lain\",\"Shelemiah\",\"March\",\"Want\",\"Without\",\"sails\",\"confident\",\"whirl\",\"altar\",\"slain\",\"utterance\",\"oppresseth\",\"Tappuah\",\"controversy\",\"term\",\"mouse\",\"lung\",\"strangest\",\"vnderstand\",\"speaks\",\"Cologne\",\"mightily\",\"latch\",\"throughly\",\"brute\",\"Meraioth\",\"receiv\",\"inscription\",\"consort\",\"bare\",\"mischievous\",\"traitor\",\"lucky\",\"timbrels\",\"moan\",\"blocks\",\"insomuch\",\"staggered\",\"inhabitant\",\"logic\",\"entrances\",\"SCENE\",\"OTTER\",\"prairies\",\"principle\",\"transplanted\",\"alas\",\"swords\",\"garrison\",\"SHALL\",\"hastily\",\"expediency\",\"Proud\",\"dat\",\"satin\",\"festive\",\"bondwoman\",\"lawyer\",\"eyesight\",\"confessed\",\"maritime\",\"amiss\",\"bending\",\"behaviour\",\"HAD\",\"emotions\",\"bat\",\"toothpick\",\"Western\",\"journeys\",\"universally\",\"causeth\",\"picture\",\"running\",\"Pratt\",\"impassive\",\"suburbs\",\"vials\",\"disappearance\",\"contract\",\"pursuers\",\"artistic\",\"recommendations\",\"estates\",\"sell\",\"expatiate\",\"immovable\",\"gasped\",\"madman\",\"heardest\",\"pleasantest\",\"truth\",\"towering\",\"quick\",\"reform\",\"threes\",\"spectacle\",\"strawberries\",\"popular\",\"expedition\",\"Too\",\"beautify\",\"Flatterers\",\"spokes\",\"athirst\",\"Plato\",\"fuel\",\"stand\",\"obedient\",\"call\",\"humid\",\"Victoria\",\"Beat\",\"earthly\",\"painful\",\"worlds\",\"lips\",\"guard\",\"carve\",\"aloud\",\"bringest\",\"frowning\",\"Zalmunna\",\"able\",\"pilots\",\"disappointment\",\"attributes\",\"forte\",\"Highlander\",\"Hovering\",\"came\",\"wild\",\"feudal\",\"Corinth\",\"Caesar\",\"then\",\"Tattle\",\"slay\",\"interposed\",\"beehive\",\"Easter\",\"Image\",\"generosity\",\"achieve\",\"Paul\",\"record\",\"feebleness\",\"discovering\",\"panic\",\"ouer\",\"athletic\",\"dismasted\",\"obscured\",\"impress\",\"engravings\",\"Loud\",\"king\",\"Starting\",\"suits\",\"pointed\",\"Ezra\",\"morn\",\"Decius\",\"Hath\",\"closed\",\"invisible\",\"heirs\",\"Receive\",\"Blown\",\"flowing\",\"exception\",\"sufferable\",\"stitch\",\"ten\",\"god\",\"aroused\",\"custome\",\"shocking\",\"judicious\",\"ledges\",\"beak\",\"persecutions\",\"forefinger\",\"popped\",\"metal\",\"camps\",\"share\",\"Bristol\",\"hemm\",\"Aphek\",\"ere\",\"cannot\",\"dies\",\"seals\",\"trifles\",\"mad\",\"Amalekites\",\"Gentlemen\",\"Egyptian\",\"Yarman\",\"Penuel\",\"pleasanter\",\"wicket\",\"adventures\",\"argued\",\"seeks\",\"moderation\",\"thrift\",\"deliberate\",\"Statue\",\"Ezer\",\"stopping\",\"Jabeshgilead\",\"fainted\",\"recount\",\"pilgrimage\",\"wears\",\"flexible\",\"owing\",\"failures\",\"ideal\",\"Son\",\"condition\",\"servitude\",\"proudly\",\"substitute\",\"read\",\"Trebonius\",\"capitals\",\"forest\",\"galleries\",\"Langsdorff\",\"confidently\",\"Jair\",\"heroick\",\"deficiencies\",\"parody\",\"greasy\",\"engaging\",\"perfumes\",\"scepter\",\"Pomfret\",\"coaches\",\"atom\",\"Tekoa\",\"felt\",\"lance\",\"welfare\",\"rated\",\"Voice\",\"rob\",\"estranged\",\"drab\",\"wanteth\",\"ugly\",\"sweetly\",\"vine\",\"Hadad\",\"grievous\",\"grieved\",\"respite\",\"hoping\",\"Titinius\",\"midday\",\"richer\",\"WILL\",\"temple\",\"Belshazzar\",\"pictures\",\"yourself\",\"mine\",\"splendid\",\"wipe\",\"affair\",\"penitent\",\"comrade\",\"fashions\",\"Frog\",\"chased\",\"Obadiah\",\"determination\",\"Captain\",\"stick\",\"Zidon\",\"garment\",\"Leicester\",\"heaps\",\"jack\",\"potter\",\"trembled\",\"infinite\",\"wearied\",\"thoughtful\",\"gong\",\"alway\",\"logical\",\"overjoyed\",\"Husbands\",\"dented\",\"recognised\",\"cats\",\"passe\",\"Sister\",\"vouchsafe\",\"pearl\",\"damp\",\"tarry\",\"dignity\",\"Oh\",\"teare\",\"Heman\",\"Latin\",\"coincidence\",\"comparing\",\"issuing\",\"pray\",\"underneath\",\"ma\",\"sha\",\"causes\",\"mansion\",\"returning\",\"guarding\",\"Boston\",\"naked\",\"bitterly\",\"effectual\",\"Hussey\",\"brave\",\"Christ\",\"Market\",\"justification\",\"fireside\",\"Beare\",\"exhorting\",\"Carolinas\",\"conviction\",\"Mephibosheth\",\"incompatible\",\"pluck\",\"secondly\",\"piped\",\"playthings\",\"due\",\"besought\",\"lighten\",\"Wherefore\",\"alarming\",\"flower\",\"planteth\",\"fray\",\"coward\",\"profile\",\"Somers\",\"plane\",\"en\",\"gossip\",\"sleepe\",\"Athens\",\"military\",\"bench\",\"laughed\",\"pass\",\"undoubtedly\",\"breathed\",\"contend\",\"shrieking\",\"sheaves\",\"before\",\"rolls\",\"Sarai\",\"whereupon\",\"refreshing\",\"layeth\",\"fins\",\"laboriously\",\"Belial\",\"Since\",\"loving\",\"Pleased\",\"Warre\",\"Vashti\",\"Galilee\",\"hovered\",\"thread\",\"uncovered\",\"imaginable\",\"cheese\",\"thickly\",\"buildeth\",\"flint\",\"compose\",\"traditions\",\"drifted\",\"chest\",\"forbear\",\"Be\",\"leavened\",\"honoured\",\"reverse\",\"finding\",\"denounced\",\"witchcraft\",\"heretofore\",\"yarn\",\"Whitman\",\"carefulness\",\"gunwales\",\"jewels\",\"stated\",\"mistrust\",\"hospitable\",\"unexpected\",\"placing\",\"75\",\".--\\\"\",\"thoroughfare\",\"javelin\",\"sanctify\",\"Daisy\",\"amongst\",\"young\",\"conspired\",\"Sucklings\",\"fossils\",\"Fashion\",\"swelling\",\"impressions\",\"Catholic\",\"cant\",\"Ant\",\"cripple\",\"eastern\",\"handled\",\"ghastly\",\"uncles\",\"considerations\",\"encamp\",\"_that_\",\"league\",\"threats\",\"guided\",\"aghast\",\"poorer\",\"aspects\",\"treason\",\"sofa\",\"sprang\",\"accent\",\"entertained\",\"Dinner\",\"into\",\"Ophe\",\"destroyed\",\"kings\",\"terror\",\"chain\",\"rolled\",\"plow\",\"faithfulness\",\"promontory\",\"Benaiah\",\"continueth\",\"feares\",\"theirs\",\"108\",\"blades\",\"pavement\",\"better\",\"7\",\"plots\",\"race\",\"betwixt\",\"furrows\",\"slew\",\"devoureth\",\"Baalim\",\"loins\",\"Meshach\",\"Cobb\",\"unfavourable\",\"saw\",\"BOOK\",\"cab\",\"amid\",\"cheerfully\",\"linen\",\"wigwam\",\"damages\",\"delivery\",\"buns\",\"likeliest\",\"copies\",\"quill\",\"fancies\",\"garraun\",\"run\",\"piano\",\"Should\",\"planned\",\"castaways\",\"independence\",\"securing\",\"dissatisfaction\",\"crews\",\"followers\",\"heavenly\",\",--\\\"\",\"unreserve\",\"presse\",\"sex\",\"Well\",\"Cadiz\",\"caught\",\"courage\",\"reported\",\"steel\",\"Margery\",\"23\",\"gulf\",\"while\",\"engage\",\"stately\",\"delicacies\",\"Hickory\",\"Huzza\",\"skeleton\",\"bountifully\",\"faulty\",\"unprofitable\",\"tunnel\",\"crown\",\"woman\",\"Samson\",\"courtesies\",\"solicited\",\"barred\",\"slothful\",\"creditor\",\"southward\",\"discovered\",\"beats\",\"failure\",\"Everybody\",\"bullock\",\"occupy\",\"monsters\",\"bargains\",\"insurrection\",\"eventually\",\"stationed\",\"enjoyments\",\"Haply\",\"correctly\",\"notched\",\"costliest\",\"observance\",\"obeisance\",\"no\",\"surprised\",\"Achish\",\"pitcher\",\"heaviest\",\"century\",\"bird\",\"afternoons\",\"assuring\",\"macaroons\",\"keeps\",\"paths\",\"headland\",\"printed\",\"pleased\",\"morbid\",\"Buildings\",\"Ophel\",\"bothered\",\"For\",\"chanced\",\"ours\",\"fiftieth\",\"tobacco\",\"reluctance\",\"plums\",\"fugitives\",\"Food\",\"torrid\",\"Avast\",\"Macey\",\"faithful\",\"dangers\",\"tempted\",\"confuse\",\"ingratitude\",\"gazed\",\"systematically\",\"smelt\",\"efforts\",\"elected\",\"Fast\",\"parsonage\",\"noonday\",\"ordinary\",\"conclude\",\"urgent\",\"Geba\",\"restlessness\",\"travailed\",\"ladies\",\"odious\",\"instantly\",\"small\",\"school\",\"tongs\",\"hopped\",\"drip\",\"spheres\",\"looking\",\"Make\",\"ride\",\"contain\",\"proverb\",\"squared\",\"maw\",\"Wilson\",\"Ahitub\",\"Nearer\",\"channels\",\"it\",\"Wherewith\",\"affected\",\"very\",\"Touch\",\"Medeba\",\"reading\",\"faltering\",\"reflection\",\"friendly\",\"various\",\"zones\",\"grope\",\"lightened\",\"grizzled\",\"Traitors\",\"gateway\",\"praises\",\"harper\",\"swim\",\"beguiled\",\"Eshcol\",\"numberless\",\"wringing\",\"buffet\",\"traded\",\"beget\",\"parlor\",\"Scotland\",\"birth\",\"say\",\"nicest\",\"folding\",\"fit\",\"manage\",\"scores\",\"fugitive\",\"stepping\",\"gainst\",\"mouths\",\"proverbs\",\"captains\",\"babes\",\"blunt\",\"Carmi\",\"fainting\",\"police\",\"Syrian\",\"wending\",\"spade\",\"described\",\"fairly\",\"unused\",\"gnaw\",\"Cymber\",\"admiring\",\"arrow\",\"Reuel\",\"reflecting\",\"hers\",\"spreads\",\"witty\",\"gather\",\"type\",\"awaiting\",\"Also\",\"shrouded\",\"untimely\",\"swelled\",\"Following\",\"gloriously\",\"Although\",\"Dunsinane\",\"caw\",\"smiled\",\"imagination\",\"gains\",\"knocked\",\"memorial\",\"tossed\",\"emerge\",\"heritage\",\"harlot\",\"relief\",\"contentious\",\"existed\",\"Personality\",\"Think\",\"exercise\",\"Manasseh\",\"bases\",\"ravenous\",\"turkey\",\"shapeless\",\"Dathan\",\"Merlin\",\"humour\",\"Six\",\"addition\",\"counts\",\"Zephon\",\"moored\",\"tenants\",\"juicy\",\"Jabesh\",\"combination\",\"notwithstanding\",\"curls\",\"chastening\",\"bombs\",\"Thane\",\"taketh\",\"beast\",\"choosing\",\"forgiven\",\"perturbation\",\"aches\",\"shrinking\",\"Approaching\",\"commanding\",\"wither\",\"incidentally\",\"hunters\",\"folks\",\"pry\",\"courtesy\",\"55\",\"committeth\",\"helper\",\"digestion\",\"brilliant\",\"flickering\",\"wisely\",\"voice\",\"vulgarity\",\"confine\",\"schoolmaster\",\"absorbing\",\"Alexander\",\"possibly\",\"unhappy\",\"effect\",\"dearth\",\"martial\",\"crept\",\"chance\",\"Thinke\",\"kinde\",\"XIII\",\"sweareth\",\"amazement\",\"hey\",\"declare\",\"imagine\",\"profited\",\"Ephah\",\"paddles\",\"instinctive\",\"Gerar\",\"Rehob\",\"millstone\",\"piece\",\"specialist\",\"evade\",\"How\",\"fifties\",\"government\",\"statue\",\"scruple\",\"promised\",\"receives\",\"convincing\",\"83\",\"Hands\",\"roads\",\"pre\",\"mists\",\"desart\",\"next\",\"affect\",\"pours\",\"purged\",\"jets\",\"sorts\",\"boats\",\"moue\",\"adulterous\",\"injuries\",\"connexion\",\"cards\",\"proud\",\"verified\",\"lead\",\"euen\",\"breakers\",\"shovel\",\"Haman\",\"120\",\"trailed\",\"crocodile\",\"showed\",\"nephews\",\"buoyant\",\"Rephidim\",\"peddler\",\"understands\",\"quake\",\"efficacy\",\"break\",\"Vpon\",\"comforts\",\"coin\",\"Cowper\",\"town\",\"divisions\",\"sulky\",\"Italian\",\"anchors\",\"surge\",\"Bad\",\"charmingly\",\"motley\",\"cups\",\"brandy\",\"Shame\",\"Pulpit\",\"channel\",\"column\",\"Micah\",\"intellectual\",\"parallel\",\"WE\",\"levelled\",\"Salt\",\"hate\",\"holds\",\"army\",\"Starbuck\",\"prouder\",\"flour\",\"Barton\",\"stalwart\",\"Amnon\",\"scare\",\"slipped\",\"deluge\",\"yields\",\"decayed\",\"mountainous\",\"separation\",\"twos\",\"Zion\",\"miles\",\"network\",\"governor\",\"Methinks\",\"treasures\",\"Armagnac\",\"affecting\",\"attaining\",\"passive\",\"royalty\",\"wages\",\"exchange\",\"thinner\",\"Mad\",\"welded\",\"infant\",\"parcels\",\"overwhelmed\",\"renewing\",\"oblige\",\"hot\",\"Nancy\",\"joys\",\"carcases\",\"Cook\",\"weighed\",\"Peter\",\"preacher\",\"jackanapes\",\"lunacy\",\"greeted\",\"expressive\",\"Kareah\",\"affectionate\",\"improved\",\"rattling\",\"relating\",\"resolving\",\"Abihu\",\"nought\",\"rifles\",\"Prophet\",\"Diuell\",\"Possum\",\"noblest\",\"knitted\",\"scud\",\"diplomacy\",\"Ratcliffe\",\"multitude\",\"swart\",\"Perizzites\",\"gilt\",\"theory\",\"robed\",\"active\",\"covering\",\"grasp\",\"profession\",\"harder\",\"defraud\",\"ballroom\",\"pole\",\"Point\",\"deity\",\"Cain\",\"despairing\",\"Hor\",\"blithe\",\"don\",\"Kidd\",\"ounce\",\"livery\",\"blankets\",\"furlongs\",\"evince\",\"steers\",\"victor\",\"creep\",\"Start\",\"midst\",\"bough\",\"tambourine\",\"Bab\",\"scandalous\",\"render\",\"thicket\",\"laden\",\"cut\",\"shrugged\",\"overthrew\",\"rapid\",\"obedience\",\"nobly\",\"ignore\",\"unheard\",\"allies\",\"recovery\",\"Uzza\",\"wasteful\",\"wherever\",\"appeareth\",\"Tema\",\"assert\",\"trophies\",\"sufficiently\",\"southern\",\"sided\",\"flashes\",\"Jezreel\",\"Quaker\",\"relied\",\"lessons\",\"communion\",\"Laadan\",\"perishing\",\"mete\",\"churches\",\"Jehoahaz\",\"applauded\",\"Thumb\",\"Guild\",\"tares\",\"unleavened\",\"productive\",\"Jackal\",\"glared\",\"shoemaker\",\"oven\",\"Europe\",\"opponent\",\"tis\",\"composedly\",\"promptly\",\"sneezing\",\"Offence\",\"roofs\",\"Cursed\",\"governments\",\"Whether\",\"Sad\",\"alarmed\",\"resting\",\"delayed\",\"cousins\",\"Dante\",\"tropical\",\"upper\",\"Mississippi\",\"stamped\",\"Baalah\",\"transgressors\",\"demanded\",\"splinter\",\"tabernacle\",\"horrible\",\"Ahaziah\",\"Columbia\",\"Funerall\",\"experiences\",\"Temple\",\"walks\",\"coasts\",\"grass\",\"saviour\",\"Money\",\"assisting\",\"induce\",\"Tyber\",\"advised\",\"cloths\",\"diligence\",\"host\",\"Fill\",\"rumbly\",\"breeding\",\"wel\",\"Araunah\",\"spruce\",\"abandonment\",\"Already\",\"restraints\",\"serpent\",\"Hark\",\"must\",\"advanced\",\"scalding\",\"deer\",\"Millo\",\"squall\",\"bits\",\"beard\",\"opportunity\",\"surrounded\",\"tints\",\"swallow\",\"disallowed\",\"makest\",\"fault\",\"infallible\",\"liquor\",\"pick\",\"gerahs\",\"grave\",\"surged\",\"Natures\",\"refuse\",\"Carbuncle\",\"strongly\",\"downs\",\"dainties\",\"correction\",\"Wells\",\"prove\",\"doubt\",\"reckless\",\"custody\",\"glances\",\"keepe\",\"defeat\",\"abated\",\"performing\",\"trivial\",\"Ginger\",\"irrepressible\",\"slapping\",\"dears\",\"Fathers\",\"Bathsheba\",\"tread\",\"dairy\",\"prettiest\",\"Catastrophism\",\"emptiness\",\"Duchess\",\"iust\",\"Jephunneh\",\"carts\",\"dis\",\"trot\",\"Nor\",\"wisest\",\"ostler\",\"130\",\"rapidity\",\"anew\",\"lane\",\"hearkened\",\"Daughter\",\"Cold\",\"offering\",\"creation\",\"ranked\",\"undaunted\",\"Hazael\",\"frigid\",\"prolong\",\"dealing\",\"improvement\",\"acorn\",\"Kanada\",\"scarce\",\"separated\",\"beggar\",\"equatorial\",\"explanatory\",\"gipsy\",\"pork\",\"new\",\"la\",\"unaccountable\",\"MRS\",\"mysterious\",\"Hal\",\"fatigue\",\"pattern\",\"pavements\",\"beware\",\"dissipated\",\"painfully\",\"excellence\",\"annual\",\"gets\",\"gull\",\"corner\",\"Eglon\",\"welcomed\",\"poyson\",\"Emperor\",\"labours\",\"ravished\",\"office\",\"Now\",\"sharper\",\"included\",\"pursuit\",\"spilled\",\"assigned\",\"leopard\",\"buckets\",\"SOMETHING\",\"decrees\",\"wring\",\"earnestness\",\"innumerable\",\"inviting\",\"teats\",\"mowers\",\"dam\",\"Deere\",\"communicated\",\"not\",\"rows\",\"grating\",\"inclosed\",\"distresses\",\"housekeeping\",\"mare\",\"target\",\"Crab\",\"Shunammite\",\"raisins\",\"massy\",\"accursed\",\"Fear\",\"excels\",\"calculated\",\"screaming\",\"subtlest\",\"?\\\"\",\"drama\",\"natives\",\"devoted\",\"proceeding\",\"Shedeur\",\"vile\",\"hotel\",\"distinguish\",\"character\",\"lash\",\"amusement\",\"depressed\",\"recorder\",\"sink\",\"Azel\",\"righteously\",\"intricacies\",\"smashed\",\"Korah\",\"mingle\",\"visitors\",\"Stage\",\"ruleth\",\"libraries\",\"editor\",\"Tarsus\",\"oliveyards\",\"offers\",\"reasons\",\"direful\",\"dares\",\"Hiram\",\"elect\",\"narration\",\"regal\",\"polluted\",\"taller\",\"Adaiah\",\"masonry\",\"latent\",\"Charlotte\",\"wrinkled\",\"prophetess\",\"perfected\",\"Cat\",\"arrange\",\"snows\",\"fables\",\"alive\",\"';\",\"retreat\",\"Talb\",\"mutter\",\"avaricious\",\"attempting\",\"lonesome\",\"Margate\",\"attendant\",\"monologue\",\"massive\",\"elated\",\"scripture\",\"adversary\",\"universes\",\"lice\",\"continually\",\"Jabin\",\"Hampshire\",\"sucking\",\"leathern\",\"ostentatiously\",\"vessel\",\"monkey\",\"apt\",\"throws\",\"infirmities\",\"seeds\",\"urges\",\"hin\",\"Mesopotamia\",\"grudge\",\"welcoming\",\"unavoidable\",\"Jerubbaal\",\"significantly\",\"great\",\"Azariah\",\"Amorite\",\"delay\",\"huzzaing\",\"Dodo\",\"throb\",\"Indeed\",\"Ahio\",\"diamond\",\"human\",\"lavers\",\"philosopher\",\"chargeable\",\"wagon\",\"peals\",\"crouched\",\"Alps\",\"Chapel\",\"frankincense\",\"safest\",\"Malcolme\",\"Jeroboam\",\"bethink\",\"overshadowed\",\"Stephen\",\"uneasiness\",\"steamer\",\"insect\",\"outwardly\",\"scatter\",\"seaweed\",\"hen\",\"apologise\",\"com\",\"booths\",\"conferred\",\"section\",\"committed\",\"helps\",\"foote\",\"fifty\",\"toward\",\"Gihon\",\"Mayor\",\"labourers\",\"form\",\"Parosh\",\"Kedesh\",\"Cape\",\"Achor\",\"Drew\",\"tucked\",\"gesture\",\"merit\",\"contrivances\",\"security\",\"rereward\",\"commerce\",\"sweeter\",\"rail\",\"outlines\",\"Bulkington\",\"Arkansas\",\"pricked\",\"refreshment\",\"later\",\"Pure\",\"whence\",\"Doe\",\"integrity\",\"patient\",\"concealment\",\"dense\",\"representing\",\"Ford\",\"Louisiana\",\"vertical\",\"scratched\",\"harvest\",\"benignity\",\"drave\",\"calmness\",\"blissful\",\"notable\",\"lounging\",\"Nations\",\"think\",\"regretted\",\"whereunto\",\"swum\",\"bony\",\"portly\",\"assemblies\",\"70\",\"provision\",\"resentment\",\"cow\",\"Minde\",\"Keilah\",\"spurs\",\"changing\",\"Sisera\",\"exactness\",\"Watching\",\"curb\",\"more\",\"bemoan\",\"Sadducees\",\"depends\",\"148\",\"moonlit\",\"depth\",\"poems\",\"indignation\",\"evolution\",\"bleed\",\"assay\",\"unsafe\",\"richness\",\"tend\",\"hammers\",\"In\",\"rottenness\",\"minor\",\"herds\",\"doubtful\",\"deepe\",\"unfortunate\",\"Wonder\",\"woodland\",\"permitting\",\"mocketh\",\"mingled\",\"bank\",\"Firm\",\"ball\",\"supernatural\",\"fee\",\"revelation\",\"players\",\"agents\",\"LORD\",\"blest\",\"neared\",\"K\",\"thinker\",\"Bless\",\"Choice\",\"Really\",\"distant\",\"nose\",\"Bethhoron\",\"chivalry\",\"fellows\",\"fowl\",\"faithfull\",\"jester\",\"survey\",\"primitive\",\"vineyards\",\"fan\",\"duel\",\"results\",\"Jether\",\"grinning\",\"sepulchre\",\"Seas\",\"accepting\",\"Antarctic\",\"house\",\"dreams\",\"bowl\",\"venerable\",\"Speaking\",\"Burs\",\"afraid\",\"overflowing\",\"song\",\"archers\",\"Deuteronomy\",\"armour\",\"uncircumcision\",\"Lucil\",\"pioneers\",\"Babes\",\"gleaming\",\"Caw\",\"Throne\",\"suspicion\",\"dejection\",\"Chaos\",\"vowed\",\"including\",\"uniting\",\"lack\",\"undertook\",\"dull\",\"112\",\"sharks\",\"brass\",\"abruptness\",\"laboring\",\"testify\",\"realities\",\"waiting\",\"bruised\",\"consequences\",\"None\",\"uncommon\",\"busily\",\"explanation\",\"absolutely\",\"fringes\",\"Story\",\"maid\",\"Stop\",\"parks\",\"confused\",\"lacke\",\"road\",\"anoint\",\"lightnings\",\"wheat\",\"berth\",\"swarming\",\"elevated\",\"Archy\",\"assisted\",\"blinking\",\"mitre\",\"Taanach\",\"Fair\",\"extend\",\"getting\",\"Hutton\",\"benevolence\",\"Murder\",\"gore\",\"cope\",\"defended\",\"marred\",\"remaineth\",\"assembled\",\"annihilation\",\"honeycomb\",\"imitated\",\"assembly\",\"model\",\"ascending\",\"brightest\",\"tattered\",\"beef\",\"liers\",\"thence\",\"bones\",\"sands\",\"symphonies\",\"slightly\",\"released\",\"pine\",\"diadem\",\"stubble\",\"sisters\",\"individuals\",\"Every\",\"hat\",\"pate\",\"unmoved\",\"Wingfield\",\"stops\",\"WHO\",\"pantry\",\"act\",\"males\",\"token\",\"tenor\",\"tunes\",\"untoward\",\"Elath\",\"feele\",\"wrong\",\"godmother\",\"dashed\",\"diseases\",\"astonishing\",\"grim\",\"exile\",\"triangle\",\"Gog\",\"beseech\",\"variety\",\"Mammy\",\"unlock\",\"softened\",\"pure\",\"Space\",\"took\",\"ON\",\"incline\",\"chocolate\",\"treasure\",\"LONG\",\"_not_\",\"seemingly\",\"boldly\",\"trodden\",\"Maiestie\",\"level\",\"boxes\",\"goes\",\"mutton\",\"deserve\",\"?'\\\"\",\"clave\",\"swearing\",\"article\",\"Both\",\"Adullam\",\"Jehovah\",\"permission\",\"Elnathan\",\"gleaning\",\"rais\",\"hardly\",\"downe\",\"compasses\",\"eares\",\"Chaldea\",\"unrecorded\",\"harp\",\"presence\",\"afresh\",\"tribulations\",\"crashing\",\"selling\",\"closet\",\"enclosure\",\"bees\",\"Baanah\",\"disinclination\",\"navies\",\"Jozadak\",\"sister\",\"translate\",\"speed\",\"shadowing\",\"sundry\",\"acquire\",\"beat\",\"purpose\",\"case\",\"Jeremoth\",\"iniquities\",\"brightened\",\"lodged\",\"caring\",\"silken\",\"eunuchs\",\"56\",\"atmosphere\",\"muskets\",\"himself\",\"gallows\",\"Only\",\"abundance\",\"means\",\"buck\",\"wagons\",\"panting\",\"roof\",\"speechless\",\"concern\",\"thank\",\"pardon\",\"humility\",\"angel\",\"tie\",\"goodly\",\"bane\",\"endeavouring\",\"thither\",\"margin\",\"attachment\",\"heartily\",\"Supreme\",\"arose\",\"T\",\"Bertha\",\"riches\",\"Free\",\"cymbals\",\"loggerhead\",\"forefront\",\"puzzle\",\"twain\",\"dissuade\",\"Archer\",\"misfortune\",\"goodwill\",\"neighbours\",\"shops\",\"gallant\",\"fiery\",\"storm\",\"noble\",\"fleecy\",\"foreigners\",\"eaten\",\"majority\",\"Sodom\",\"lifted\",\"Idea\",\"consistent\",\"Becher\",\"Jotham\",\"beaux\",\"lively\",\"Elijah\",\"curly\",\"learning\",\"seeme\",\"deere\",\"understand\",\"foolish\",\"Thus\",\"replied\",\"pebbles\",\"stone\",\"passionately\",\"Foe\",\"incomparable\",\"supplying\",\"wretchedness\",\"quitting\",\"Down\",\"speculation\",\"unintelligible\",\"yong\",\"Queen\",\"monument\",\"quickest\",\"here\",\"fashionable\",\"Haue\",\"Things\",\"fringe\",\"stooping\",\"Regardless\",\"archway\",\"plump\",\"perils\",\"engaged\",\"lament\",\"Lawrence\",\"casement\",\"BROWN\",\"recompensed\",\"magnificent\",\"symptom\",\"Bombay\",\"introducing\",\"joints\",\"Tower\",\"foremost\",\"hut\",\"despised\",\"Jersey\",\"cost\",\"possessor\",\"steadiness\",\"stolidly\",\"vigorous\",\"assemble\",\"things\",\"cooler\",\"alert\",\"violet\",\"dripping\",\"unconcerned\",\"political\",\"forbearing\",\"ensue\",\"quite\",\"Chip\",\"handles\",\"outside\",\"misery\",\"Thenceforth\",\"kettle\",\"21\",\"tempting\",\"regardeth\",\"tenant\",\"VIII\",\"damage\",\"remark\",\"axes\",\"Illinois\",\"woody\",\"dispose\",\"frigate\",\"sailed\",\"praising\",\"backward\",\"label\",\"tongues\",\"tongue\",\"streaks\",\"granite\",\"Apostle\",\"prowess\",\"labourer\",\"infants\",\"worship\",\"talent\",\"reduced\",\"Greybeards\",\"chamber\",\"whist\",\"vehemently\",\"build\",\"unpunished\",\"Rocks\",\"vigilance\",\"Michaelmas\",\"joyous\",\"spar\",\"After\",\"malady\",\"Lest\",\"driver\",\"unpardonable\",\"MacNab\",\"BY\",\"trout\",\"explaining\",\"sherry\",\"buoy\",\"flow\",\"Elah\",\"fold\",\"buffalo\",\"gave\",\"universal\",\"Reddy\",\"Author\",\"march\",\"bestir\",\"audacious\",\"touch\",\"successe\",\"assure\",\"Commission\",\"waking\",\"qualified\",\"blown\",\"businesse\",\"rocking\",\"dunce\",\"pair\",\"raptures\",\"Salute\",\"used\",\"Bright\",\"square\",\"Hang\",\"bully\",\"entrance\",\"flannel\",\"Jupiter\",\"attendants\",\"receiving\",\"ire\",\"lore\",\"Meadows\",\"ignorance\",\"addresses\",\"devoid\",\"Directly\",\"tin\",\"gipsies\",\"Dane\",\"per\",\"Hananiah\",\"velvet\",\"cornets\",\"coupled\",\"enjoined\",\"origin\",\"Cornwall\",\"shadowy\",\"Berkeley\",\"idleness\",\"praying\",\"shrieks\",\"attacked\",\"Fanshaw\",\"cultivated\",\"keepeth\",\"benevolent\",\"sanctuary\",\"neighbouring\",\"towns\",\"Law\",\"Jenning\",\"penetrate\",\"westward\",\"poor\",\"Whenever\",\"Caesarea\",\"invested\",\"express\",\"affairs\",\"contentment\",\"magnanimous\",\"Reynol\",\"travellers\",\"presses\",\"Yard\",\"inquired\",\"Chedorlaomer\",\"insignificant\",\"helpless\",\"A\",\"revolting\",\"naturalists\",\"tinkling\",\"hopelessly\",\"swift\",\"railroad\",\"figures\",\"youth\",\"Bethsaida\",\"Thankes\",\"impertinent\",\"Henceforth\",\"Sold\",\"arisen\",\"tolerate\",\"Bethuel\",\"mouldy\",\"tenement\",\"rememberest\",\"discomfited\",\"farewell\",\"overpowering\",\"sharing\",\"approaching\",\"Before\",\"punctual\",\"warmest\",\"Greenland\",\"hover\",\"terribly\",\"cormorant\",\"convicts\",\"ene\",\"Midianites\",\"den\",\"loneliness\",\"repenteth\",\"makes\",\"jerking\",\"tost\",\"brought\",\"prating\",\"detaining\",\"talents\",\"Toward\",\"rivals\",\"although\",\"porpoise\",\"visit\",\"Asp\",\"S\",\"forgetfulness\",\"cathedrals\",\"mindes\",\"LOST\",\"decently\",\"incorporate\",\"attitudes\",\"lacking\",\"barbaric\",\"dung\",\"round\",\"reddish\",\"hemlock\",\"Fresh\",\"Honors\",\"balance\",\"axe\",\"glorious\",\"ordained\",\"soon\",\"Wind\",\"promoted\",\"Led\",\"Wide\",\"Amariah\",\"Boy\",\"protection\",\"din\",\"favour\",\"Portia\",\"bored\",\"islands\",\"demands\",\"sir\",\"reserve\",\"44\",\"Knowledge\",\"Open\",\"plunged\",\"poureth\",\"constraint\",\"stayed\",\"Audrey\",\"144\",\"ethereal\",\"result\",\"husbands\",\"Gogol\",\"convivial\",\"preach\",\"confront\",\"continuance\",\"softly\",\"Timothy\",\"herb\",\"thy\",\"rous\",\"once\",\"vs\",\"dukes\",\"outcasts\",\"withhold\",\"decent\",\"expected\",\"medicines\",\"householder\",\"afternoon\",\"122\",\"Samaria\",\"denying\",\"antiquity\",\"praise\",\"States\",\"trusted\",\"brimstone\",\"flattery\",\"hedges\",\"trespass\",\"Count\",\"lunge\",\"Moabites\",\"impropriety\",\"according\",\"but\",\"sounds\",\"jaw\",\"paces\",\"sacrificed\",\"sharpest\",\"courses\",\"gardener\",\"astonishment\",\"Huram\",\"frolic\",\"bright\",\"copper\",\"supreme\",\"damnable\",\"room\",\"dared\",\"hoa\",\"brim\",\"soot\",\"covers\",\"luxury\",\"feat\",\"Voices\",\"cough\",\"lank\",\"confinement\",\"Eton\",\"Joktan\",\"132\",\"cleared\",\"depart\",\"Bay\",\"remote\",\"Away\",\"waistcoat\",\"Absalom\",\"pleas\",\"decide\",\"lantern\",\"Mattithiah\",\"passengers\",\"nominally\",\"portentous\",\"Work\",\"Above\",\"Man\",\"leade\",\"repressed\",\"hookah\",\"Tis\",\"weapons\",\"Exit\",\"baths\",\"family\",\"Ambitious\",\"hunter\",\"finger\",\"Beware\",\"unlucky\",\"Hittite\",\"fishes\",\"furiously\",\"Japheth\",\"obey\",\"corn\",\"crickets\",\"preceded\",\"marbles\",\"Deity\",\"Pity\",\"producing\",\"battery\",\"matured\",\"squadrons\",\"avast\",\"decision\",\"forced\",\"survive\",\"Ornan\",\"doings\",\"conjuring\",\"recognized\",\"invitations\",\"extreme\",\"outweigh\",\"serveth\",\"fur\",\"stirreth\",\"hireling\",\"Don\",\"Ain\",\"Song\",\"Common\",\"encouragement\",\"pantomime\",\"multiplied\",\"chisel\",\"bottles\",\"Arme\",\"part\",\"undo\",\"airs\",\"Knock\",\"easiest\",\"Neriah\",\"Return\",\"essays\",\"Smallridge\",\"dresser\",\"meane\",\"impious\",\"note\",\"scolding\",\"uneasy\",\"closing\",\"Appetite\",\"assistance\",\"judging\",\"unattended\",\"wakeful\",\"Nicodemus\",\"Sabbath\",\"timely\",\"cell\",\"kinder\",\"languishing\",\"cometh\",\"perspective\",\"unspeakable\",\"current\",\"recoil\",\"nest\",\"latest\",\"locked\",\"potatoes\",\"raised\",\"unfair\",\"Another\",\"Shem\",\"owne\",\"Dinah\",\"Whose\",\"republican\",\"upstairs\",\"Timotheus\",\"Ar\",\"Caesars\",\"shadow\",\"glowed\",\"keyhole\",\"woke\",\"leaues\",\"resume\",\"grounds\",\"seemed\",\"impatient\",\"Fox\",\"off\",\"blinding\",\"sacred\",\"suite\",\"Numbers\",\"settest\",\"whose\",\"governors\",\"bullet\",\"protect\",\"Women\",\"sincere\",\"dictionary\",\";\\\"\",\"Mabel\",\"forcing\",\"ivory\",\"Mary\",\"languid\",\"Dishan\",\"perished\",\"O\",\"Pour\",\"If\",\"slackened\",\"deserves\",\"morrow\",\"method\",\"defeats\",\"go\",\"Chambermaid\",\"isn\",\"quire\",\"Niagara\",\"signal\",\"buckler\",\"abashed\",\"turne\",\"Chants\",\"wanton\",\"affords\",\"Somebody\",\"Ended\",\"And\",\"non\",\"feathers\",\"civilities\",\"Look\",\"intelligible\",\"Turn\",\"Elioenai\",\"Abiram\",\"democratic\",\"Beetle\",\"descent\",\"covered\",\"procure\",\"hiss\",\"persevered\",\"shooting\",\"copy\",\"Quayle\",\"advocate\",\"ribands\",\"career\",\"regulations\",\"attentions\",\"strike\",\"Arabia\",\"toss\",\"bondmen\",\"Rabbah\",\"believers\",\"reeling\",\"title\",\"AND\",\"Cloud\",\"penance\",\"noon\",\"east\",\"Rabbi\",\"Pennsylvania\",\"heresies\",\"wrenching\",\"Fortunately\",\"mark\",\"matches\",\"Irish\",\"fare\",\"shutter\",\"crackling\",\"unbroken\",\"inserted\",\"goodnight\",\"sinking\",\"sail\",\"entered\",\"lump\",\"soberly\",\"PIP\",\"87\",\"Going\",\"has\",\"kine\",\"nurse\",\"possession\",\"concealing\",\"drawings\",\"riddles\",\"preventing\",\"Part\",\"alacrity\",\"Greeks\",\"certificate\",\"Aholibah\",\"narrower\",\"implements\",\"commenced\",\"quarrelling\",\"perpendicularly\",\"Immense\",\"fields\",\"Passage\",\"126\",\"main\",\"Suddenly\",\"yawned\",\"legions\",\"precedes\",\"righteous\",\"sticking\",\"Greywood\",\"wander\",\"linger\",\"IV\",\"Thinks\",\"sicken\",\"competent\",\"faithfully\",\"screen\",\"baggage\",\"Spirits\",\"darts\",\"named\",\"blasphemies\",\"chapiters\",\"thinkers\",\"involving\",\"Achbor\",\"Custome\",\"glittering\",\"Dagda\",\"Picture\",\"Mock\",\"stalls\",\"strangely\",\"servant\",\"137\",\"jury\",\"confectioner\",\"deception\",\"thrusting\",\"thoroughfares\",\"deceiver\",\"baken\",\"farmers\",\"similar\",\"avoid\",\"redeem\",\"boiled\",\"star\",\"dally\",\"permit\",\"rod\",\"listen\",\"links\",\"Carolina\",\"national\",\"cushions\",\"129\",\"feverish\",\"dexterous\",\"inwards\",\"FROM\",\"mariners\",\"brutal\",\"slumbering\",\"whaling\",\"kitchen\",\"marry\",\"devotion\",\"spires\",\"hatchway\",\"Persians\",\"swiftly\",\"drunk\",\"orgies\",\"gladness\",\"past\",\"Hebronites\",\"magic\",\"issued\",\"commandeth\",\"imaginative\",\"Witherspoon\",\"characteristic\",\"years\",\"digged\",\"Kish\",\"unquestionable\",\"throughout\",\"clipped\",\"Again\",\"50\",\"sprung\",\"Pond\",\"steamships\",\"threat\",\"leaven\",\"ports\",\"prison\",\"overboard\",\"wiles\",\"attempted\",\"Villars\",\"chaste\",\"wormwood\",\"ascended\",\"cane\",\"oddly\",\"Iustice\",\"Linnaeus\",\"dint\",\"misled\",\"newspaper\",\"rifle\",\"click\",\"coldness\",\"sworn\",\"mandarin\",\"stooped\",\"footmen\",\"sources\",\"hail\",\"victuals\",\"Psalms\",\"stumbling\",\"wrists\",\"dart\",\"lifteth\",\"bring\",\"curate\",\"lessened\",\"Stern\",\"Heart\",\"hesitate\",\"Grey\",\"appease\",\"insupportable\",\"insolent\",\"plume\",\"scientific\",\"lifeless\",\"baby\",\"Hurrah\",\"dressed\",\"tender\",\"Souldiers\",\"green\",\"stare\",\"hunger\",\"instance\",\"thieves\",\"stool\",\"dazzle\",\"weight\",\"fishers\",\"elate\",\"Winds\",\"gleamed\",\"behinde\",\"dip\",\"imitation\",\"suspects\",\"Ham\",\"grieving\",\"hit\",\"walker\",\"relics\",\"wire\",\"subtle\",\"poisoned\",\"behold\",\"bargain\",\"unlikely\",\"Merrily\",\"Kentucky\",\"Ammihud\",\"hair\",\"extravagance\",\"draper\",\"searched\",\"profits\",\"Delaford\",\"delicious\",\"unnatural\",\"51\",\"pond\",\"147\",\"idiot\",\"needless\",\"Tobiah\",\"humane\",\"empire\",\"grieve\",\"Star\",\"resided\",\"cares\",\"rural\",\"affrighted\",\"consuming\",\"Leave\",\"suddenly\",\"above\",\"arrangement\",\"polish\",\"park\",\"dandy\",\"consecrated\",\"lava\",\"colouring\",\"veterans\",\"curled\",\"flapped\",\"there\",\"mysteriously\",\"frenzy\",\"division\",\"movement\",\"reade\",\"soothing\",\"incredulous\",\"Rehoboam\",\"Straits\",\"truths\",\".\\\"\",\"Tell\",\"recess\",\"vapor\",\"Words\",\"peradventure\",\"regular\",\"easier\",\"permanently\",\"stedfastly\",\"sledge\",\"guarded\",\"haggard\",\"died\",\"victories\",\"weaned\",\"acceptable\",\"remorseless\",\"skirt\",\"diffuse\",\"ceased\",\"regiment\",\"Tall\",\"nerves\",\"increased\",\"Shallum\",\"progress\",\"signed\",\"WOULD\",\"basis\",\"beholds\",\"Knave\",\"rises\",\"mental\",\"fluke\",\"Eagle\",\"yesterday\",\"professor\",\"knowest\",\"armies\",\"your\",\"Cyrene\",\"slayer\",\"widely\",\"disapprobation\",\"already\",\"swarest\",\"suggestion\",\"galloping\",\"Torches\",\"--\\\"\",\"blast\",\"mood\",\"misapprehension\",\"confirm\",\"speeding\",\"convicted\",\"harem\",\"examine\",\"hitherto\",\"miracles\",\"fir\",\"directed\",\"Grand\",\"abide\",\"dalliance\",\"dancers\",\"religions\",\"digging\",\"minute\",\"onset\",\"inferior\",\"True\",\"withdrew\",\"vastly\",\"cattle\",\"Parsee\",\"socket\",\"gable\",\"take\",\"justify\",\"instruments\",\"pea\",\"sentries\",\"wore\",\"farmer\",\"incredible\",\"sirs\",\"Sound\",\"account\",\"removing\",\"unchanged\",\"propriety\",\"charge\",\"soldiers\",\"cruse\",\"pointedly\",\"us\",\"deformed\",\"trunks\",\"beasts\",\"aid\",\"consciously\",\"enrich\",\"mute\",\"shone\",\"nobleman\",\"draw\",\"Sleet\",\"Sag\",\"hulls\",\"skirts\",\"burst\",\"singers\",\"Mercy\",\"split\",\"genealogies\",\"Teach\",\"plunging\",\"owe\",\"Offices\",\"Vishnoo\",\"ointments\",\"marvel\",\"strode\",\"severed\",\"Bethlehem\",\"heat\",\"theoretic\",\"wayward\",\"regretting\",\"die\",\"dearer\",\"efficient\",\"sandy\",\"Cornish\",\"aperture\",\"evil\",\"habit\",\"assault\",\"dictate\",\"dimly\",\"particular\",\");\",\"Danish\",\"thoughtless\",\"upheld\",\"our\",\"Cabin\",\"Offer\",\"Rephaim\",\"morality\",\"darting\",\"towed\",\"habitations\",\"invented\",\"barn\",\"proclamation\",\"fac\",\"Abel\",\"Some\",\"Kellynch\",\"pleasure\",\"careless\",\"Eliphelet\",\"amend\",\"Agagite\",\"binnacle\",\"Improvisatore\",\"vertue\",\"unwell\",\"Rome\",\"hardy\",\"privately\",\"mightest\",\"sounded\",\"infection\",\"trumpeter\",\"farm\",\"Lower\",\"Bahurim\",\"excellent\",\"conjectured\",\"mule\",\"mystic\",\"arrive\",\"schoolroom\",\"ceremony\",\"Haggith\",\"destitute\",\"Mill\",\"politeness\",\"disadvantage\",\"Belteshazzar\",\"romantic\",\"sprinkled\",\"Daniel\",\"haire\",\"guessing\",\"strawberry\",\"curacy\",\"none\",\"mysteries\",\"thereby\",\"foreign\",\"bridegroom\",\"Lye\",\"sowed\",\"headlines\",\"Tragedie\",\"prosper\",\"understandeth\",\"Massachusetts\",\"Nineveh\",\"emergencies\",\"lusteth\",\"homes\",\"Stay\",\"announcement\",\"fired\",\"preparatory\",\"spacious\",\"woeful\",\"whim\",\"mastery\",\"hammer\",\"soundings\",\"carol\",\"contradictory\",\"magpie\",\"Ahira\",\"Manchon\",\"hurriedly\",\"fathers\",\"Zibeon\",\"Inspector\",\"Canaan\",\"courting\",\"seven\",\"sware\",\"('\",\"September\",\"friend\",\"sinners\",\"cried\",\"Witches\",\"Maaseiah\",\"Gaius\",\"poring\",\"dearly\",\"discharged\",\"seru\",\"notion\",\"programme\",\"WELL\",\"govern\",\"talkers\",\"gown\",\"cutting\",\"cleft\",\"end\",\"earring\",\"duties\",\"edge\",\"lid\",\"summer\",\"starved\",\"prisons\",\"ain\",\"blaspheme\",\"cubic\",\"grin\",\"loyal\",\"ready\",\"fear\",\"slumbers\",\"vinegar\",\"harsh\",\"poisonous\",\"bolt\",\"Nation\",\"splendour\",\"regiments\",\"clattering\",\"Osricke\",\"blacke\",\"Little\",\"certainties\",\"Euen\",\"largest\",\"apply\",\"chimneys\",\"relish\",\"convinced\",\"Por\",\"sinned\",\"shattered\",\"intending\",\"groweth\",\"Hivites\",\"courteous\",\"weakly\",\"Elias\",\"incarnate\",\"Lebanon\",\"snatching\",\"bitten\",\"_we_\",\"surprise\",\"hosts\",\"promis\",\"vapour\",\"oaks\",\"wentest\",\"willow\",\"entirely\",\"elude\",\"creating\",\"Its\",\"Landlady\",\"ferry\",\"doves\",\"intermediate\",\"cottage\",\"Jahath\",\"Flee\",\"revolution\",\"partiality\",\"conquer\",\"Havilah\",\"aquiline\",\"baronet\",\"magazine\",\"torment\",\"Tiger\",\"vigil\",\"relations\",\"bewilderment\",\"Shaphat\",\"couple\",\"measles\",\"tireless\",\"Bethlehemjudah\",\"shopman\",\"admirably\",\"shalt\",\"profoundly\",\"comprehended\",\"Corkscrew\",\"rested\",\"perceptible\",\"simplest\",\"day\",\"exhaled\",\"dim\",\"redeeming\",\"Aside\",\"Elkanah\",\"tormenting\",\"parents\",\"traveller\",\"resistance\",\"drum\",\"beds\",\"Would\",\"thrones\",\";)\",\"filthiness\",\"fulness\",\"imitate\",\"suddenness\",\"patriot\",\"treacherous\",\"Farmer\",\"Selina\",\"shewed\",\"exchanged\",\"THEIR\",\"accounts\",\"without\",\"ponderous\",\"recollections\",\"growing\",\"Publius\",\"announced\",\"President\",\"expelled\",\"constructed\",\"husbandmen\",\"proprietor\",\"heroes\",\"mast\",\"burdensome\",\"Body\",\"wills\",\"echoes\",\"undying\",\"serenely\",\"graue\",\"rewarded\",\"breathing\",\"anywhere\",\"doubled\",\"sayings\",\"wake\",\"tire\",\"a\",\"flats\",\"chastened\",\"mouthful\",\"rapturous\",\"signe\",\"\\\";\",\"apartments\",\"disorderly\",\"property\",\"resign\",\"Democracy\",\"matter\",\"foolishly\",\"Barring\",\"improve\",\"France\",\"selfishness\",\"Fit\",\"blended\",\"forgive\",\"start\",\"Cherubick\",\"Pindarus\",\"instincts\",\"soup\",\"misfortunes\",\"grasshoppers\",\"wouldest\",\"hump\",\"perturbations\",\"couldst\",\"Quick\",\"triangular\",\"Champion\",\"Fedallah\",\"springing\",\"uncover\",\"tastes\",\"procedure\",\"lamentation\",\"foaming\",\"hath\",\"burned\",\"Jezreelitess\",\"blinded\",\"clear\",\"edition\",\"passing\",\"player\",\"worthier\",\"womanhood\",\"_he_\",\"pushes\",\"Barabbas\",\"unworthy\",\"maine\",\"hooked\",\"affirm\",\"beach\",\"cask\",\"tent\",\"puzzled\",\"absorbed\",\"whale\",\"contrary\",\"surveying\",\"disgust\",\"improvements\",\"placidly\",\"design\",\"prejudice\",\"belief\",\"Fishermen\",\"Ebedmelech\",\"53\",\".]\",\"enquiry\",\"obstacle\",\"encamped\",\"ha\",\"gaiety\",\"rascal\",\"aery\",\"Ashdod\",\"exertions\",\"hauing\",\"leads\",\"exact\",\"We\",\"disturbance\",\"weaver\",\"odorous\",\"accommodation\",\"48\",\"undeviating\",\"spend\",\"inhabited\",\"Blessed\",\"subtly\",\"Longer\",\"HERE\",\"Eyes\",\"pretty\",\"Jennings\",\"villages\",\"unconsciously\",\"actual\",\"Come\",\"steeds\",\"congratulate\",\"builds\",\"trudged\",\"betook\",\"lanes\",\"Gilgal\",\"sweetest\",\"Cilicia\",\"timbrel\",\"unfound\",\"afforded\",\"horseback\",\"wager\",\"provisions\",\"Hard\",\"vibration\",\"compacted\",\"apothecary\",\"windows\",\"unquiet\",\"Cutler\",\"champion\",\"forwards\",\"Countries\",\"ages\",\"admiration\",\"knots\",\"ardour\",\"seal\",\"drinketh\",\"Must\",\"skulls\",\"favourite\",\"mocks\",\"specimen\",\"musket\",\"hesitation\",\"shilling\",\"temper\",\"Beautiful\",\"conquering\",\"glanced\",\"tane\",\"88\",\"exterior\",\"provinces\",\"smoothed\",\"messengers\",\"sweeper\",\"Zippor\",\"periods\",\"throat\",\"hedge\",\"Jezreelite\",\"shuffling\",\"sensation\",\"breeze\",\"greeue\",\"Strato\",\"Joiarib\",\"opposition\",\"Babylon\",\"pull\",\"wicker\",\"Clifton\",\"circumspection\",\"slabs\",\"difficult\",\"inquisitive\",\"shy\",\"positively\",\"Libertad\",\"consequently\",\"inconsiderable\",\"betimes\",\"wedged\",\"sailing\",\"Render\",\"stumbled\",\"revealed\",\"dusky\",\"building\",\"artifice\",\"abreast\",\"owes\",\"eyelids\",\"handmaid\",\"shiver\",\"fragrance\",\"mending\",\"retrospective\",\"threaten\",\"Falling\",\"groan\",\"138\",\"radiance\",\"forks\",\"stile\",\"beset\",\"expedient\",\"bidding\",\"Faith\",\"persuaded\",\"trample\",\"slaughter\",\"transfer\",\"Bashemath\",\"raw\",\"creamy\",\"composite\",\"odor\",\"whip\",\"MAN\",\"sensibly\",\"mystery\",\"bind\",\"cleanness\",\"taches\",\"smile\",\"merry\",\"cigar\",\"intent\",\"author\",\"steer\",\"hushed\",\"plac\",\"collection\",\"banner\",\"poz\",\"triumphed\",\"Chick\",\"bellow\",\"dining\",\"humor\",\"Eastern\",\"calls\",\"embraces\",\"chanc\",\"comic\",\"shawl\",\"cast\",\"mount\",\"tried\",\"defendants\",\"beer\",\"lambent\",\"scrape\",\"estimation\",\"pools\",\"excellency\",\"lightness\",\"make\",\"Weep\",\"plea\",\"journeyed\",\"Jericho\",\"blind\",\"Beale\",\"Gold\",\"Pequod\",\"raises\",\"Billy\",\"inland\",\"snaky\",\"Among\",\"Andes\",\"Ramoth\",\"halting\",\"machinery\",\"ends\",\"wouldst\",\"irony\",\"paced\",\"converted\",\"high\",\"groaned\",\"scab\",\"evident\",\"timed\",\"routine\",\"syllable\",\"summons\",\"straitened\",\"typical\",\"abused\",\"Pahathmoab\",\"thankful\",\"Child\",\"corruption\",\"Brook\",\"fatigues\",\"chose\",\"Giue\",\"insects\",\"Anybody\",\"turnes\",\"scramble\",\"remonstrance\",\"Jahaz\",\"genially\",\"utter\",\"commission\",\"clinking\",\"Finsbury\",\"Solomon\",\"maddening\",\"pitiable\",\"quickness\",\"street\",\"porches\",\"canvass\",\"Beast\",\"befel\",\"FOR\",\"prosaic\",\"wheeled\",\"formless\",\"pence\",\"lake\",\"support\",\"Hereby\",\"Crow\",\"Pendragons\",\"wan\",\"tendeth\",\"festivals\",\"Scena\",\"grotesque\",\"beareth\",\"ribbon\",\"GOOD\",\"Heber\",\"What\",\"frank\",\"draped\",\"Hanoch\",\"?\",\"Chenaanah\",\"unanimous\",\"sob\",\"happening\",\"shekels\",\"Gay\",\"omen\",\"reckoning\",\"formation\",\"ancestors\",\"thrust\",\"foibles\",\"crescent\",\"gift\",\"right\",\"Meremoth\",\"wolf\",\"cistern\",\"rejoined\",\"yield\",\"plaintiffs\",\"answering\",\"candlestick\",\"barley\",\"avail\",\"26\",\"yonder\",\"perusal\",\"hurried\",\"Christian\",\"perplexed\",\"entereth\",\"verse\",\"Hand\",\"Caterpillar\",\"Lord\",\"ransom\",\"Obedience\",\"taxed\",\"fifteen\",\"swollen\",\"gentlemanlike\",\"farms\",\"snorting\",\"drooping\",\"tempest\",\"bow\",\"WHEELER\",\"sturdily\",\"Auntie\",\"spirit\",\"wells\",\"melancholy\",\"April\",\"Tut\",\"dexterity\",\"Looks\",\"oxen\",\"frown\",\"accurately\",\"proclaiming\",\"thunders\",\"scourged\",\"pit\",\"clash\",\"slacken\",\"withstood\",\"abolish\",\"censer\",\"Lakeman\",\"goe\",\"howl\",\"background\",\"captivity\",\"planted\",\"killing\",\"undergo\",\"preserve\",\"Can\",\"Dutch\",\"artist\",\"glancing\",\"outstretched\",\"defiance\",\"fasted\",\"Pirathonite\",\"disobey\",\"shopkeeper\",\"joke\",\"Ishmael\",\"mightier\",\"Jehohanan\",\"Pigeon\",\"vexation\",\"passions\",\"voyagers\",\"rope\",\"Selah\",\"Elam\",\"seriously\",\"Sleepe\",\"Not\",\"grammar\",\"Buttons\",\"rams\",\"perception\",\"Rollaround\",\"Helez\",\"lend\",\"populace\",\"misunderstood\",\"string\",\"tattooed\",\"Seraphim\",\"forty\",\"hospital\",\"fleeting\",\"improving\",\"mask\",\"wished\",\"jokes\",\"detective\",\"Smith\",\"nonsense\",\"Asa\",\"plates\",\"spikes\",\"insanity\",\"despite\",\"emerald\",\"forbade\",\"whims\",\"stave\",\"storied\",\"Beriah\",\"files\",\"concubines\",\"discernment\",\"clusters\",\"Health\",\"occasions\",\"aft\",\"inflicted\",\"Nantucketers\",\"limbs\",\"enduring\",\"lawsuit\",\"wail\",\"gallery\",\"whiteness\",\"mightiest\",\"equalled\",\"Always\",\"Soo\",\"grip\",\"Christianity\",\"scum\",\"openeth\",\"weeding\",\"comprehend\",\"Bildad\",\"noiselessly\",\"liked\",\"quantity\",\"Pedro\",\"fierce\",\"seer\",\"sprinkle\",\"THERE\",\"ponds\",\"Esaias\",\"bed\",\"vex\",\"cork\",\"least\",\"Eternal\",\"chaise\",\"baking\",\"Japan\",\".)\",\"peep\",\"42\",\"Mountains\",\"impossible\",\"rousing\",\"wilde\",\"Bezer\",\"vaguely\",\"leprous\",\"chanting\",\"undertone\",\"July\",\"unfold\",\"cars\",\"length\",\"dogs\",\"intrepid\",\"begge\",\"unsuspicious\",\"heauen\",\"liken\",\"steeple\",\"vacancy\",\"Rory\",\"Mettle\",\"Run\",\"denial\",\"speech\",\"responded\",\"hovering\",\"namely\",\"additions\",\"smoothly\",\"frogs\",\"planets\",\"loftiest\",\"Clit\",\"cruet\",\"ministering\",\"lessen\",\"coat\",\"sly\",\"discoveries\",\"establish\",\"evening\",\"to\",\"arrangements\",\"floods\",\"prying\",\"cheering\",\"hole\",\"Croker\",\"beg\",\"completion\",\"Tirshatha\",\"challenge\",\"fruitful\",\"felicity\",\"Shew\",\"worthless\",\"Lightning\",\"whatever\",\"waiteth\",\"ingenuity\",\"drank\",\"Asse\",\"services\",\"reluctantly\",\"squeeze\",\"Bloody\",\"Sixteen\",\"overlooking\",\"dresses\",\"descend\",\"carbuncle\",\"Amram\",\"ruin\",\"mumbling\",\"bridge\",\"withereth\",\"depended\",\"Much\",\"hypocrisy\",\"him\",\"grimly\",\"plaid\",\"carpenters\",\"ate\",\"Louis\",\"loved\",\"considers\",\"Elizur\",\"central\",\"kin\",\"Simon\",\"disobedience\",\"gray\",\"22\",\"sparrows\",\"Rebellious\",\"73\",\"topic\",\"liars\",\"comer\",\"tigers\",\"enclose\",\"identical\",\"ark\",\"paradise\",\"Cassius\",\"57\",\"thunderstruck\",\"emptied\",\"assaults\",\"maintained\",\"extraordinarily\",\"bulky\",\"field\",\"58\",\"Merry\",\"pigs\",\"Patty\",\"rending\",\"vocation\",\"lifetime\",\"shepherd\",\"mainly\",\"appalling\",\"poison\",\"invoke\",\"sympathize\",\"--,\",\"THIS\",\"pacing\",\"isles\",\"estimated\",\"addressing\",\"ambassador\",\"overbearing\",\"sorcerers\",\"fatherless\",\"envious\",\"alloy\",\"Shittim\",\"complain\",\"sounding\",\"campaign\",\"barricade\",\"Titus\",\"Moved\",\"ye\",\"tail\",\"Baalhanan\",\"eatest\",\"Fanny\",\"impudence\",\"edges\",\"banquet\",\"Jolly\",\"raging\",\"Depart\",\"t\",\"people\",\"census\",\"Asia\",\"devoting\",\"play\",\"precedents\",\"Esq\",\"law\",\"settle\",\"forbidding\",\"ran\",\"whirled\",\"grandfather\",\"basket\",\"fainter\",\"sunny\",\"riders\",\"nursery\",\"stood\",\"sceptre\",\"Abdiel\",\"boarded\",\"Souldier\",\"bonnet\",\"boughs\",\"etc\",\"rushing\",\"imparted\",\"drawer\",\"charger\",\"hero\",\"shined\",\"nod\",\"watched\",\"grinned\",\"gratefully\",\"Lima\",\"strained\",\"mournfully\",\"Asaiah\",\"defend\",\"unreck\",\"Ammonites\",\"Braine\",\"away\",\"servants\",\"laughs\",\"attractions\",\"delighted\",\"Thessalonians\",\"wert\",\"Easy\",\"impulse\",\"shaking\",\"signet\",\"foreseeing\",\"breeches\",\"hearts\",\"waning\",\"flew\",\"Mark\",\"Adonijah\",\"fix\",\"austere\",\"music\",\"Canst\",\"flitting\",\"upside\",\"chattering\",\"dismissed\",\"Greek\",\"collar\",\"Cathedral\",\"matters\",\"resplendent\",\"unto\",\"whereat\",\"recompense\",\"plants\",\"capable\",\"palpable\",\"language\",\"son\",\"Strathspey\",\"forsaken\",\"speaking\",\"heathenish\",\"dealeth\",\"desperately\",\"flaunt\",\"hearer\",\"parts\",\"vision\",\"flanked\",\"Nahshon\",\"flights\",\"workmanship\",\"Eliza\",\"wedge\",\"lay\",\"Unseen\",\"coarse\",\"78\",\"churning\",\"cherished\",\"proceeds\",\"judgments\",\"fearfully\",\"Slowly\",\"hue\",\"separateth\",\"gathers\",\"cuffs\",\"Muskrat\",\"obstinate\",\"cruell\",\"billows\",\"breezes\",\"arming\",\"molten\",\"amiable\",\"Ebal\",\"Masse\",\"Unknown\",\"strong\",\"Angels\",\"labour\",\"seventy\",\"Wonderful\",\"judiciously\",\"thus\",\"pies\",\"eloquence\",\"exclamation\",\"bowels\",\"rationally\",\"visual\",\"lee\",\"Back\",\"tide\",\"shot\",\"girth\",\"weeks\",\"kingdom\",\"apparition\",\"regularly\",\"Ghost\",\"quenched\",\"_Daily\",\"12\",\"sheweth\",\"blending\",\"fluttered\",\"bribe\",\"Lucy\",\"Won\",\"asked\",\"tires\",\"recollect\",\"track\",\"abased\",\"79\",\"traitors\",\"Eustache\",\"Brobdingnag\",\"winding\",\"pearls\",\"spiral\",\"residue\",\"unusual\",\"storehouses\",\"deceit\",\"chuckled\",\"floating\",\"doing\",\"stump\",\"short\",\"ephah\",\"forbidden\",\"113\",\"sentence\",\"helmet\",\"apologize\",\"excites\",\"unreasonable\",\"lurked\",\"northern\",\"admit\",\"apparitions\",\"rivers\",\"puns\",\"dress\",\"yea\",\"difficulties\",\"wealth\",\"hasty\",\"folk\",\"congenial\",\"liu\",\"civilization\",\"hissed\",\"appeased\",\"miserable\",\"Arm\",\"mee\",\"trust\",\"renowned\",\"Thel\",\"authors\",\"larks\",\"dupe\",\"rewards\",\"been\",\"phenomenon\",\"related\",\"un\",\"awkward\",\"Pendragon\",\"militia\",\"Stand\",\"bene\",\"Eliashib\",\"stink\",\"pencil\",\"repeating\",\"seeking\",\"moderately\",\"neerer\",\"tows\",\"Forthwith\",\"possessions\",\"glow\",\"manna\",\"lot\",\"ascertain\",\"sexes\",\"valleys\",\"dishes\",\"causing\",\"distance\",\"Woods\",\"Bring\",\"merciful\",\"clover\",\"Cherubim\",\"capital\",\"trillions\",\"thumb\",\"erst\",\"horseman\",\"Oman\",\"magnify\",\"launch\",\"wretchedly\",\"Jeroham\",\"cover\",\"yielded\",\"Gone\",\"along\",\"ho\",\"Alone\",\"impediment\",\"foresight\",\"knowes\",\"travail\",\"apology\",\"quickened\",\"giant\",\"vp\",\"unbelief\",\"Anyhow\",\"bigger\",\"hinds\",\"extravagant\",\"suspicious\",\"chooses\",\"Cecilia\",\"area\",\"watching\",\"99\",\"thinking\",\"endurance\",\"Amasai\",\"obscurely\",\"other\",\"assassins\",\"spray\",\"Jerry\",\"feel\",\"cage\",\"crab\",\"Frogs\",\"buy\",\"prophecy\",\"whit\",\"virtue\",\"pausing\",\"joyful\",\"Inn\",\"gold\",\"pay\",\"ornament\",\"Brahmin\",\"pretended\",\"prints\",\"degrading\",\"exaggeration\",\"regards\",\"rites\",\"lazy\",\"orchards\",\"Hormah\",\"Omnipotence\",\"stones\",\"Sheshan\",\"inquire\",\"eidolons\",\"splash\",\"messages\",\"unconditional\",\"most\",\"Washington\",\"impression\",\"Corinthians\",\"boil\",\"Present\",\"Kirjathjearim\",\"pomegranate\",\"many\",\"pretend\",\"Jack\",\"indeede\",\"basking\",\"Glad\",\"commence\",\"accustomed\",\"twisted\",\"denoted\",\"reserving\",\"clefts\",\"gruffly\",\"blow\",\"Print\",\"amaze\",\"snail\",\"justly\",\"started\",\"cocked\",\"Esau\",\"horribly\",\"wind\",\"thoroughly\",\"snatch\",\"azure\",\"judgest\",\"Missouri\",\"Jehoiada\",\"formality\",\"losing\",\"clods\",\"prune\",\"Fleece\",\"postman\",\"glide\",\"glossy\",\"torture\",\"indignant\",\"bounteous\",\"cousin\",\"ANY\",\"eternal\",\"forward\",\"towing\",\"sewed\",\"raiseth\",\"Father\",\"ardent\",\"Galatia\",\"feeling\",\"Hebron\",\"Player\",\"vane\",\"palms\",\"roses\",\"big\",\"afflicted\",\"differently\",\"Cetology\",\"Balaam\",\"sized\",\"Cannibal\",\"Get\",\"mincing\",\"frivolous\",\"Eyres\",\"pistol\",\"broth\",\"Tahath\",\"usher\",\"Azmaveth\",\"Royall\",\"life\",\"Banner\",\"doo\",\"roam\",\"shallow\",\"Full\",\"excursion\",\"overseers\",\"Horonaim\",\"Uzziah\",\"grandmama\",\"Lost\",\"so\",\"issue\",\"slack\",\"THE\",\"boldest\",\"unjust\",\"Instead\",\"foursquare\",\"envy\",\"40\",\"approval\",\"vocal\",\"flye\",\"identify\",\"Light\",\"Ephron\",\"Ha\",\"aspiration\",\"Farm\",\"Norland\",\"railway\",\"Grateful\",\"communicate\",\"decreed\",\"ayre\",\"masts\",\"wisedome\",\"calling\",\"danger\",\"villa\",\"deny\",\"disclose\",\"reddening\",\"Thee\",\"Jesus\",\"dazed\",\"beyond\",\"Husband\",\"remiss\",\"punish\",\"foreheads\",\"Somerville\",\"range\",\"warned\",\"flowed\",\"smooth\",\"Isles\",\"st\",\"humours\",\"Carmel\",\"personal\",\"Miss\",\"elephant\",\"ll\",\"exposure\",\"candour\",\"rage\",\"Armes\",\"circumstance\",\"overturn\",\"Traitor\",\"engagements\",\"dishonour\",\"shivered\",\"Theresa\",\"hated\",\"sneer\",\"offices\",\"varieties\",\"Hoshea\",\"riseth\",\"rest\",\"fantastic\",\"Thoughts\",\"folly\",\"recognition\",\"mourning\",\"Highbury\",\"how\",\"weepe\",\"everything\",\"warp\",\"wroth\",\"dissimilar\",\"duped\",\"000\",\"drawing\",\"dominions\",\"unprecedented\",\"GLOBE\",\"torments\",\"replenished\",\"whirls\",\"occupying\",\"ever\",\"saves\",\"Kidron\",\"animating\",\"Was\",\"Didst\",\"shift\",\"taking\",\"opened\",\"push\",\"bore\",\"Done\",\"Gomorrah\",\"grease\",\"Off\",\"brink\",\"imputed\",\"shouts\",\"walnut\",\"feasting\",\"rumble\",\"Fell\",\"sad\",\"joins\",\"myth\",\"witness\",\"sullenly\",\"eate\",\"asking\",\"scaped\",\"fierceness\",\"society\",\"cheated\",\"Baasha\",\"balmy\",\"vulgar\",\"poetical\",\"tattooing\",\"elevate\",\"untempered\",\"fame\",\"shuts\",\"yeare\",\"Knowest\",\"loosen\",\"toils\",\"fertile\",\"seam\",\"blemish\",\"loaded\",\"eternity\",\"Hashum\",\"scene\",\"roasted\",\"twins\",\"stretched\",\"Thought\",\"hidden\",\"Frenchman\",\"gives\",\"shipwrecked\",\"casks\",\"collected\",\"Girgashites\",\"rapport\",\"Achan\",\"dwelt\",\"dissolved\",\"turban\",\"GOD\",\"bestial\",\"piping\",\"meddle\",\"whom\",\"fillets\",\"Betwixt\",\"Raamah\",\"shrieked\",\"Forget\",\"crossed\",\"stating\",\"bent\",\"worshippers\",\"Asahel\",\"formally\",\"northward\",\"schoolmistress\",\"Florida\",\"suckling\",\"serious\",\"saidst\",\"eminent\",\"divinely\",\"adviser\",\"godliness\",\"Drake\",\"sins\",\"affectionately\",\"rue\",\"hellish\",\"bag\",\"foolishness\",\"expressing\",\"distressing\",\"personality\",\"mode\",\"hotter\",\"enquiring\",\"Hezron\",\"Eidolons\",\"ridiculous\",\"Shuhite\",\"greatness\",\"mou\",\"carnal\",\"proof\",\"prodigious\",\"unfruitful\",\"measure\",\"stupidly\",\"phrases\",\"fain\",\"atmospheres\",\"riddle\",\"wot\",\"male\",\"practical\",\"heavy\",\"irritable\",\"cautious\",\"hearted\",\"contraction\",\"incredulity\",\"needed\",\"incalculable\",\"trundle\",\"slope\",\"reach\",\"masculine\",\"tomb\",\"food\",\"trifling\",\"exercises\",\"sieve\",\"Attorney\",\"fetching\",\"editors\",\"unwelcome\",\"dominion\",\"time\",\"enquired\",\"garret\",\"fetch\",\"suppose\",\"growl\",\"pin\",\"power\",\"foot\",\"signified\",\"covet\",\"ghost\",\"Fairfax\",\"possibility\",\"crowds\",\"Guildensterne\",\"win\",\"An\",\"Rachel\",\"Arthur\",\"Fare\",\"potent\",\"previously\",\"surety\",\"intended\",\"affront\",\"mottled\",\"dove\",\"peer\",\"goat\",\"details\",\"Olympus\",\"Jem\",\"Southern\",\"Martin\",\"Gordon\",\"fried\",\"climbed\",\"brethren\",\"patches\",\"weep\",\"after\",\"graces\",\"Poor\",\"consult\",\"hundreds\",\"enchantments\",\"anguish\",\"dodge\",\"perform\",\"diving\",\"savage\",\"Confess\",\"hoppity\",\"unsuitable\",\"churchyard\",\"Dead\",\"Ashkelon\",\"Lie\",\"camel\",\"poorly\",\"drawers\",\"approve\",\"dough\",\"almighty\",\"handkerchief\",\"throned\",\"apparently\",\"murky\",\"bedroom\",\"housetop\",\"posterity\",\"antique\",\"buttons\",\"indisputable\",\"Lazarus\",\"faculties\",\"authority\",\"mould\",\"woof\",\"charitable\",\"whirlwind\",\"Port\",\"wicked\",\"three\",\"Laodicea\",\"Young\",\"Frank\",\"indifference\",\"explore\",\"mama\",\"pigeon\",\"accommodations\",\"considerate\",\"Jeduthun\",\"fishy\",\"surprized\",\"aright\",\"Rise\",\"wearing\",\"13\",\"physician\",\"quietness\",\"tribes\",\"radish\",\"Destroy\",\"Michaiah\",\"overlaid\",\"ponder\",\"wistfully\",\"trespassed\",\"respectability\",\"Pole\",\"appealing\",\"mentioning\",\"Valiant\",\"stupid\",\"Perhaps\",\"cross\",\"fanatic\",\"ah\",\"Ammon\",\"Alligator\",\"Pul\",\"legal\",\"tears\",\"Canterbury\",\"callous\",\"defending\",\"much\",\"spoils\",\"hurrying\",\"Sonnes\",\"devices\",\"spied\",\"sick\",\"reeled\",\"pledge\",\"vanished\",\"dances\",\"straightened\",\"Bateses\",\"pack\",\"creepeth\",\"fanciful\",\"unknown\",\"seduced\",\"Accept\",\"100\",\"original\",\"Peor\",\"Cherub\",\"Gershom\",\"fisher\",\"Gall\",\"butterfly\",\"enabled\",\"parley\",\"ample\",\"Chatterer\",\"unbelieving\",\"Hilkiah\",\"RED\",\"forsook\",\"appointment\",\"distinct\",\"bade\",\"chairman\",\"Smiling\",\"lame\",\"decided\",\"drunkenness\",\"pretensions\",\"entry\",\"destined\",\"contriving\",\"inordinate\",\"Olives\",\"muscles\",\"Birds\",\"kicking\",\"species\",\"Hudson\",\"mahogany\",\"humouredly\",\"roadside\",\"dwells\",\"Dalrymple\",\"raced\",\"Descend\",\"annexed\",\"seriousness\",\"awakening\",\"circumcision\",\"warn\",\"frozen\",\"houses\",\"dreary\",\"hoarsely\",\"exploit\",\"elm\",\"adjoining\",\"emphatic\",\"universe\",\"showers\",\"vanishing\",\"profiteth\",\"slid\",\"Todhunter\",\"Taylor\",\"unceasing\",\"fascinating\",\"Cainan\",\"Greybeard\",\"prisoners\",\"assertion\",\"mended\",\"haunted\",\"weary\"],\"x\":{\"__ndarray__\":\"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\",\"dtype\":\"float64\",\"shape\":[5000]},\"y\":{\"__ndarray__\":\"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\",\"dtype\":\"float64\",\"shape\":[5000]}},\"selected\":{\"id\":\"1046\",\"type\":\"Selection\"},\"selection_policy\":{\"id\":\"1045\",\"type\":\"UnionRenderers\"}},\"id\":\"1034\",\"type\":\"ColumnDataSource\"},{\"attributes\":{},\"id\":\"1044\",\"type\":\"BasicTickFormatter\"}],\"root_ids\":[\"1002\"]},\"title\":\"Bokeh Application\",\"version\":\"1.3.4\"}};\n",
       "  var render_items = [{\"docid\":\"f1a83c7d-e63a-41fe-9bad-1ddaf1d83661\",\"roots\":{\"1002\":\"df1371c2-2dd3-4902-92c6-bcc0c9705aaf\"}}];\n",
       "  root.Bokeh.embed.embed_items_notebook(docs_json, render_items);\n",
       "\n",
       "  }\n",
       "  if (root.Bokeh !== undefined) {\n",
       "    embed_document(root);\n",
       "  } else {\n",
       "    var attempts = 0;\n",
       "    var timer = setInterval(function(root) {\n",
       "      if (root.Bokeh !== undefined) {\n",
       "        embed_document(root);\n",
       "        clearInterval(timer);\n",
       "      }\n",
       "      attempts++;\n",
       "      if (attempts > 100) {\n",
       "        console.log(\"Bokeh: ERROR: Unable to run BokehJS code because BokehJS library is missing\");\n",
       "        clearInterval(timer);\n",
       "      }\n",
       "    }, 10, root)\n",
       "  }\n",
       "})(window);"
      ],
      "application/vnd.bokehjs_exec.v0+json": ""
     },
     "metadata": {
      "application/vnd.bokehjs_exec.v0+json": {
       "id": "1002"
      }
     },
     "output_type": "display_data"
    }
   ],
   "source": [
    "show(p)"
   ]
  },
  {
   "cell_type": "code",
   "execution_count": null,
   "metadata": {},
   "outputs": [],
   "source": []
  }
 ],
 "metadata": {
  "kernelspec": {
   "display_name": "Python 3",
   "language": "python",
   "name": "python3"
  },
  "language_info": {
   "codemirror_mode": {
    "name": "ipython",
    "version": 3
   },
   "file_extension": ".py",
   "mimetype": "text/x-python",
   "name": "python",
   "nbconvert_exporter": "python",
   "pygments_lexer": "ipython3",
   "version": "3.7.3"
  }
 },
 "nbformat": 4,
 "nbformat_minor": 2
}
